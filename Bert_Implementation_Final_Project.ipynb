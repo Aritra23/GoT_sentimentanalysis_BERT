{
 "cells": [
  {
   "cell_type": "code",
   "execution_count": 2,
   "metadata": {},
   "outputs": [],
   "source": [
    "import torch\n",
    "import pandas as pd\n",
    "from tqdm import tqdm"
   ]
  },
  {
   "cell_type": "code",
   "execution_count": 12,
   "metadata": {},
   "outputs": [],
   "source": [
    "\n",
    "df = pd.read_csv(\n",
    "    'dataset/jon-snow-tweets_training-validation_set_sentiment.csv')"
   ]
  },
  {
   "cell_type": "code",
   "execution_count": 13,
   "metadata": {},
   "outputs": [
    {
     "data": {
      "text/html": [
       "<div>\n",
       "<style scoped>\n",
       "    .dataframe tbody tr th:only-of-type {\n",
       "        vertical-align: middle;\n",
       "    }\n",
       "\n",
       "    .dataframe tbody tr th {\n",
       "        vertical-align: top;\n",
       "    }\n",
       "\n",
       "    .dataframe thead th {\n",
       "        text-align: right;\n",
       "    }\n",
       "</style>\n",
       "<table border=\"1\" class=\"dataframe\">\n",
       "  <thead>\n",
       "    <tr style=\"text-align: right;\">\n",
       "      <th></th>\n",
       "      <th>text</th>\n",
       "      <th>sentiment</th>\n",
       "      <th>polarity</th>\n",
       "      <th>subjectivity</th>\n",
       "      <th>Preprocess</th>\n",
       "    </tr>\n",
       "  </thead>\n",
       "  <tbody>\n",
       "    <tr>\n",
       "      <th>0</th>\n",
       "      <td>@IsabelOakeshott @jonsnowC4 He stated a fact.</td>\n",
       "      <td>Neu</td>\n",
       "      <td>0.00</td>\n",
       "      <td>0.000</td>\n",
       "      <td>isabeloakeshott jonsnowc4 he stated fact</td>\n",
       "    </tr>\n",
       "    <tr>\n",
       "      <th>1</th>\n",
       "      <td>@prwhittle How isn't @jonsnowC4 being racist t...</td>\n",
       "      <td>Neu</td>\n",
       "      <td>0.00</td>\n",
       "      <td>0.000</td>\n",
       "      <td>prwhittle how isn jonsnowc4 being racist there...</td>\n",
       "    </tr>\n",
       "    <tr>\n",
       "      <th>2</th>\n",
       "      <td>@JDShuttlesworth @jonsnowC4 @CashApp A ski slo...</td>\n",
       "      <td>Neu</td>\n",
       "      <td>0.00</td>\n",
       "      <td>0.000</td>\n",
       "      <td>jdshuttlesworth jonsnowc4 cashapp ski slope in...</td>\n",
       "    </tr>\n",
       "    <tr>\n",
       "      <th>3</th>\n",
       "      <td>Get the fuck outta my face! before I opened it...</td>\n",
       "      <td>Neg</td>\n",
       "      <td>-0.45</td>\n",
       "      <td>0.600</td>\n",
       "      <td>get the fuck outta my face before opened it th...</td>\n",
       "    </tr>\n",
       "    <tr>\n",
       "      <th>4</th>\n",
       "      <td>@tinabobuk I was there too. Never saw so many ...</td>\n",
       "      <td>Pos</td>\n",
       "      <td>0.65</td>\n",
       "      <td>0.625</td>\n",
       "      <td>tinabobuk wa there too never saw so many brexi...</td>\n",
       "    </tr>\n",
       "  </tbody>\n",
       "</table>\n",
       "</div>"
      ],
      "text/plain": [
       "                                                text sentiment  polarity  \\\n",
       "0      @IsabelOakeshott @jonsnowC4 He stated a fact.       Neu      0.00   \n",
       "1  @prwhittle How isn't @jonsnowC4 being racist t...       Neu      0.00   \n",
       "2  @JDShuttlesworth @jonsnowC4 @CashApp A ski slo...       Neu      0.00   \n",
       "3  Get the fuck outta my face! before I opened it...       Neg     -0.45   \n",
       "4  @tinabobuk I was there too. Never saw so many ...       Pos      0.65   \n",
       "\n",
       "   subjectivity                                         Preprocess  \n",
       "0         0.000           isabeloakeshott jonsnowc4 he stated fact  \n",
       "1         0.000  prwhittle how isn jonsnowc4 being racist there...  \n",
       "2         0.000  jdshuttlesworth jonsnowc4 cashapp ski slope in...  \n",
       "3         0.600  get the fuck outta my face before opened it th...  \n",
       "4         0.625  tinabobuk wa there too never saw so many brexi...  "
      ]
     },
     "execution_count": 13,
     "metadata": {},
     "output_type": "execute_result"
    }
   ],
   "source": [
    "df.head()"
   ]
  },
  {
   "cell_type": "code",
   "execution_count": 14,
   "metadata": {},
   "outputs": [
    {
     "data": {
      "text/plain": [
       "Neu    2333\n",
       "Pos    1630\n",
       "Neg    1037\n",
       "Name: sentiment, dtype: int64"
      ]
     },
     "execution_count": 14,
     "metadata": {},
     "output_type": "execute_result"
    }
   ],
   "source": [
    "df.sentiment.value_counts()"
   ]
  },
  {
   "cell_type": "code",
   "execution_count": 15,
   "metadata": {},
   "outputs": [],
   "source": [
    "label_dict = {l:i for i,l in enumerate(df.sentiment.unique())}\n",
    "num2label = {v:k for k, v in label_dict.items()}"
   ]
  },
  {
   "cell_type": "code",
   "execution_count": 16,
   "metadata": {},
   "outputs": [
    {
     "data": {
      "text/plain": [
       "{0: 'Neu', 1: 'Neg', 2: 'Pos'}"
      ]
     },
     "execution_count": 16,
     "metadata": {},
     "output_type": "execute_result"
    }
   ],
   "source": [
    "num2label"
   ]
  },
  {
   "cell_type": "code",
   "execution_count": 17,
   "metadata": {},
   "outputs": [
    {
     "data": {
      "text/plain": [
       "{'Neu': 0, 'Neg': 1, 'Pos': 2}"
      ]
     },
     "execution_count": 17,
     "metadata": {},
     "output_type": "execute_result"
    }
   ],
   "source": [
    "\n",
    "label_dict"
   ]
  },
  {
   "cell_type": "code",
   "execution_count": 18,
   "metadata": {},
   "outputs": [
    {
     "data": {
      "text/html": [
       "<div>\n",
       "<style scoped>\n",
       "    .dataframe tbody tr th:only-of-type {\n",
       "        vertical-align: middle;\n",
       "    }\n",
       "\n",
       "    .dataframe tbody tr th {\n",
       "        vertical-align: top;\n",
       "    }\n",
       "\n",
       "    .dataframe thead th {\n",
       "        text-align: right;\n",
       "    }\n",
       "</style>\n",
       "<table border=\"1\" class=\"dataframe\">\n",
       "  <thead>\n",
       "    <tr style=\"text-align: right;\">\n",
       "      <th></th>\n",
       "      <th>text</th>\n",
       "      <th>sentiment</th>\n",
       "      <th>polarity</th>\n",
       "      <th>subjectivity</th>\n",
       "      <th>Preprocess</th>\n",
       "      <th>label</th>\n",
       "    </tr>\n",
       "  </thead>\n",
       "  <tbody>\n",
       "    <tr>\n",
       "      <th>0</th>\n",
       "      <td>@IsabelOakeshott @jonsnowC4 He stated a fact.</td>\n",
       "      <td>Neu</td>\n",
       "      <td>0.00</td>\n",
       "      <td>0.000</td>\n",
       "      <td>isabeloakeshott jonsnowc4 he stated fact</td>\n",
       "      <td>0</td>\n",
       "    </tr>\n",
       "    <tr>\n",
       "      <th>1</th>\n",
       "      <td>@prwhittle How isn't @jonsnowC4 being racist t...</td>\n",
       "      <td>Neu</td>\n",
       "      <td>0.00</td>\n",
       "      <td>0.000</td>\n",
       "      <td>prwhittle how isn jonsnowc4 being racist there...</td>\n",
       "      <td>0</td>\n",
       "    </tr>\n",
       "    <tr>\n",
       "      <th>2</th>\n",
       "      <td>@JDShuttlesworth @jonsnowC4 @CashApp A ski slo...</td>\n",
       "      <td>Neu</td>\n",
       "      <td>0.00</td>\n",
       "      <td>0.000</td>\n",
       "      <td>jdshuttlesworth jonsnowc4 cashapp ski slope in...</td>\n",
       "      <td>0</td>\n",
       "    </tr>\n",
       "    <tr>\n",
       "      <th>3</th>\n",
       "      <td>Get the fuck outta my face! before I opened it...</td>\n",
       "      <td>Neg</td>\n",
       "      <td>-0.45</td>\n",
       "      <td>0.600</td>\n",
       "      <td>get the fuck outta my face before opened it th...</td>\n",
       "      <td>1</td>\n",
       "    </tr>\n",
       "    <tr>\n",
       "      <th>4</th>\n",
       "      <td>@tinabobuk I was there too. Never saw so many ...</td>\n",
       "      <td>Pos</td>\n",
       "      <td>0.65</td>\n",
       "      <td>0.625</td>\n",
       "      <td>tinabobuk wa there too never saw so many brexi...</td>\n",
       "      <td>2</td>\n",
       "    </tr>\n",
       "  </tbody>\n",
       "</table>\n",
       "</div>"
      ],
      "text/plain": [
       "                                                text sentiment  polarity  \\\n",
       "0      @IsabelOakeshott @jonsnowC4 He stated a fact.       Neu      0.00   \n",
       "1  @prwhittle How isn't @jonsnowC4 being racist t...       Neu      0.00   \n",
       "2  @JDShuttlesworth @jonsnowC4 @CashApp A ski slo...       Neu      0.00   \n",
       "3  Get the fuck outta my face! before I opened it...       Neg     -0.45   \n",
       "4  @tinabobuk I was there too. Never saw so many ...       Pos      0.65   \n",
       "\n",
       "   subjectivity                                         Preprocess  label  \n",
       "0         0.000           isabeloakeshott jonsnowc4 he stated fact      0  \n",
       "1         0.000  prwhittle how isn jonsnowc4 being racist there...      0  \n",
       "2         0.000  jdshuttlesworth jonsnowc4 cashapp ski slope in...      0  \n",
       "3         0.600  get the fuck outta my face before opened it th...      1  \n",
       "4         0.625  tinabobuk wa there too never saw so many brexi...      2  "
      ]
     },
     "execution_count": 18,
     "metadata": {},
     "output_type": "execute_result"
    }
   ],
   "source": [
    "df['label'] = df.sentiment.replace(label_dict)\n",
    "df.head()"
   ]
  },
  {
   "cell_type": "code",
   "execution_count": 19,
   "metadata": {},
   "outputs": [],
   "source": [
    "from sklearn.model_selection import train_test_split"
   ]
  },
  {
   "cell_type": "code",
   "execution_count": 10,
   "metadata": {},
   "outputs": [],
   "source": [
    "SEED = 42069"
   ]
  },
  {
   "cell_type": "code",
   "execution_count": 11,
   "metadata": {},
   "outputs": [],
   "source": [
    "\n",
    "Xt, Xv, yt, yv = train_test_split(\n",
    "    df.index.values,\n",
    "    df.label.values,\n",
    "    test_size=0.15,\n",
    "    random_state=SEED,\n",
    "    stratify=df.label.values\n",
    ")"
   ]
  },
  {
   "cell_type": "code",
   "execution_count": 12,
   "metadata": {},
   "outputs": [],
   "source": [
    "df['type'] = ['tmp'] * df.shape[0]"
   ]
  },
  {
   "cell_type": "code",
   "execution_count": 13,
   "metadata": {},
   "outputs": [
    {
     "data": {
      "text/html": [
       "<div>\n",
       "<style scoped>\n",
       "    .dataframe tbody tr th:only-of-type {\n",
       "        vertical-align: middle;\n",
       "    }\n",
       "\n",
       "    .dataframe tbody tr th {\n",
       "        vertical-align: top;\n",
       "    }\n",
       "\n",
       "    .dataframe thead th {\n",
       "        text-align: right;\n",
       "    }\n",
       "</style>\n",
       "<table border=\"1\" class=\"dataframe\">\n",
       "  <thead>\n",
       "    <tr style=\"text-align: right;\">\n",
       "      <th></th>\n",
       "      <th>text</th>\n",
       "      <th>sentiment</th>\n",
       "      <th>polarity</th>\n",
       "      <th>subjectivity</th>\n",
       "      <th>Preprocess</th>\n",
       "      <th>label</th>\n",
       "      <th>type</th>\n",
       "    </tr>\n",
       "  </thead>\n",
       "  <tbody>\n",
       "    <tr>\n",
       "      <th>0</th>\n",
       "      <td>I’ve selected Arya Stark to sit on the Iron Th...</td>\n",
       "      <td>Neg</td>\n",
       "      <td>-0.25</td>\n",
       "      <td>0.600000</td>\n",
       "      <td>i ve selected arya stark to sit on the iron th...</td>\n",
       "      <td>0</td>\n",
       "      <td>tmp</td>\n",
       "    </tr>\n",
       "    <tr>\n",
       "      <th>1</th>\n",
       "      <td>#got #gameofthrones #arya #season7 #season8 #f...</td>\n",
       "      <td>Pos</td>\n",
       "      <td>0.50</td>\n",
       "      <td>0.600000</td>\n",
       "      <td>got gameofthrones arya season7 season8 funkopo...</td>\n",
       "      <td>1</td>\n",
       "      <td>tmp</td>\n",
       "    </tr>\n",
       "    <tr>\n",
       "      <th>2</th>\n",
       "      <td>Arya stark, she sure say she no bi related to ...</td>\n",
       "      <td>Pos</td>\n",
       "      <td>0.06</td>\n",
       "      <td>0.437778</td>\n",
       "      <td>arya stark she sure say she no bi related to o...</td>\n",
       "      <td>1</td>\n",
       "      <td>tmp</td>\n",
       "    </tr>\n",
       "    <tr>\n",
       "      <th>3</th>\n",
       "      <td>I’ve selected Arya Stark to sit on the Iron Th...</td>\n",
       "      <td>Neg</td>\n",
       "      <td>-0.25</td>\n",
       "      <td>0.600000</td>\n",
       "      <td>i ve selected arya stark to sit on the iron th...</td>\n",
       "      <td>0</td>\n",
       "      <td>tmp</td>\n",
       "    </tr>\n",
       "    <tr>\n",
       "      <th>4</th>\n",
       "      <td>@QuestionMan18 @thereseverdun @Flickalilla @Te...</td>\n",
       "      <td>Neu</td>\n",
       "      <td>0.00</td>\n",
       "      <td>0.000000</td>\n",
       "      <td>questionman18 thereseverdun flickalilla tellev...</td>\n",
       "      <td>2</td>\n",
       "      <td>tmp</td>\n",
       "    </tr>\n",
       "  </tbody>\n",
       "</table>\n",
       "</div>"
      ],
      "text/plain": [
       "                                                text sentiment  polarity  \\\n",
       "0  I’ve selected Arya Stark to sit on the Iron Th...       Neg     -0.25   \n",
       "1  #got #gameofthrones #arya #season7 #season8 #f...       Pos      0.50   \n",
       "2  Arya stark, she sure say she no bi related to ...       Pos      0.06   \n",
       "3  I’ve selected Arya Stark to sit on the Iron Th...       Neg     -0.25   \n",
       "4  @QuestionMan18 @thereseverdun @Flickalilla @Te...       Neu      0.00   \n",
       "\n",
       "   subjectivity                                         Preprocess  label type  \n",
       "0      0.600000  i ve selected arya stark to sit on the iron th...      0  tmp  \n",
       "1      0.600000  got gameofthrones arya season7 season8 funkopo...      1  tmp  \n",
       "2      0.437778  arya stark she sure say she no bi related to o...      1  tmp  \n",
       "3      0.600000  i ve selected arya stark to sit on the iron th...      0  tmp  \n",
       "4      0.000000  questionman18 thereseverdun flickalilla tellev...      2  tmp  "
      ]
     },
     "execution_count": 13,
     "metadata": {},
     "output_type": "execute_result"
    }
   ],
   "source": [
    "df.head()\n"
   ]
  },
  {
   "cell_type": "code",
   "execution_count": 14,
   "metadata": {},
   "outputs": [],
   "source": [
    "df.loc[Xt, 'type'] = 'train'\n",
    "df.loc[Xv, 'type'] = 'val'"
   ]
  },
  {
   "cell_type": "code",
   "execution_count": 15,
   "metadata": {},
   "outputs": [
    {
     "data": {
      "text/html": [
       "<div>\n",
       "<style scoped>\n",
       "    .dataframe tbody tr th:only-of-type {\n",
       "        vertical-align: middle;\n",
       "    }\n",
       "\n",
       "    .dataframe tbody tr th {\n",
       "        vertical-align: top;\n",
       "    }\n",
       "\n",
       "    .dataframe thead th {\n",
       "        text-align: right;\n",
       "    }\n",
       "</style>\n",
       "<table border=\"1\" class=\"dataframe\">\n",
       "  <thead>\n",
       "    <tr style=\"text-align: right;\">\n",
       "      <th></th>\n",
       "      <th></th>\n",
       "      <th></th>\n",
       "      <th>text</th>\n",
       "      <th>polarity</th>\n",
       "      <th>subjectivity</th>\n",
       "      <th>Preprocess</th>\n",
       "    </tr>\n",
       "    <tr>\n",
       "      <th>sentiment</th>\n",
       "      <th>label</th>\n",
       "      <th>type</th>\n",
       "      <th></th>\n",
       "      <th></th>\n",
       "      <th></th>\n",
       "      <th></th>\n",
       "    </tr>\n",
       "  </thead>\n",
       "  <tbody>\n",
       "    <tr>\n",
       "      <th rowspan=\"2\" valign=\"top\">Neg</th>\n",
       "      <th rowspan=\"2\" valign=\"top\">0</th>\n",
       "      <th>train</th>\n",
       "      <td>2536</td>\n",
       "      <td>2536</td>\n",
       "      <td>2536</td>\n",
       "      <td>2536</td>\n",
       "    </tr>\n",
       "    <tr>\n",
       "      <th>val</th>\n",
       "      <td>447</td>\n",
       "      <td>447</td>\n",
       "      <td>447</td>\n",
       "      <td>447</td>\n",
       "    </tr>\n",
       "    <tr>\n",
       "      <th rowspan=\"2\" valign=\"top\">Neu</th>\n",
       "      <th rowspan=\"2\" valign=\"top\">2</th>\n",
       "      <th>train</th>\n",
       "      <td>1380</td>\n",
       "      <td>1380</td>\n",
       "      <td>1380</td>\n",
       "      <td>1380</td>\n",
       "    </tr>\n",
       "    <tr>\n",
       "      <th>val</th>\n",
       "      <td>244</td>\n",
       "      <td>244</td>\n",
       "      <td>244</td>\n",
       "      <td>244</td>\n",
       "    </tr>\n",
       "    <tr>\n",
       "      <th rowspan=\"2\" valign=\"top\">Pos</th>\n",
       "      <th rowspan=\"2\" valign=\"top\">1</th>\n",
       "      <th>train</th>\n",
       "      <td>334</td>\n",
       "      <td>334</td>\n",
       "      <td>334</td>\n",
       "      <td>334</td>\n",
       "    </tr>\n",
       "    <tr>\n",
       "      <th>val</th>\n",
       "      <td>59</td>\n",
       "      <td>59</td>\n",
       "      <td>59</td>\n",
       "      <td>59</td>\n",
       "    </tr>\n",
       "  </tbody>\n",
       "</table>\n",
       "</div>"
      ],
      "text/plain": [
       "                       text  polarity  subjectivity  Preprocess\n",
       "sentiment label type                                           \n",
       "Neg       0     train  2536      2536          2536        2536\n",
       "                val     447       447           447         447\n",
       "Neu       2     train  1380      1380          1380        1380\n",
       "                val     244       244           244         244\n",
       "Pos       1     train   334       334           334         334\n",
       "                val      59        59            59          59"
      ]
     },
     "execution_count": 15,
     "metadata": {},
     "output_type": "execute_result"
    }
   ],
   "source": [
    "df.groupby(['sentiment', 'label', 'type']).count()"
   ]
  },
  {
   "cell_type": "code",
   "execution_count": 16,
   "metadata": {},
   "outputs": [],
   "source": [
    "\n",
    "from transformers import BertTokenizer\n",
    "from torch.utils.data import TensorDataset"
   ]
  },
  {
   "cell_type": "code",
   "execution_count": 17,
   "metadata": {},
   "outputs": [
    {
     "data": {
      "application/vnd.jupyter.widget-view+json": {
       "model_id": "836841a3623d45359c521e37469e7eca",
       "version_major": 2,
       "version_minor": 0
      },
      "text/plain": [
       "HBox(children=(HTML(value='Downloading'), FloatProgress(value=0.0, max=231508.0), HTML(value='')))"
      ]
     },
     "metadata": {},
     "output_type": "display_data"
    },
    {
     "name": "stdout",
     "output_type": "stream",
     "text": [
      "\n"
     ]
    }
   ],
   "source": [
    "tokenizer = BertTokenizer.from_pretrained(\n",
    "    'bert-base-uncased',\n",
    "    do_lower_case=True\n",
    ")"
   ]
  },
  {
   "cell_type": "code",
   "execution_count": 18,
   "metadata": {},
   "outputs": [
    {
     "name": "stderr",
     "output_type": "stream",
     "text": [
      "Truncation was not explicitly activated but `max_length` is provided a specific value, please use `truncation=True` to explicitly truncate examples to max length. Defaulting to 'longest_first' truncation strategy. If you encode pairs of sequences (GLUE-style) with the tokenizer you can select this strategy more precisely by providing a specific strategy to `truncation`.\n",
      "c:\\users\\lahir\\appdata\\local\\programs\\python\\python38\\lib\\site-packages\\transformers\\tokenization_utils_base.py:2136: FutureWarning: The `pad_to_max_length` argument is deprecated and will be removed in a future version, use `padding=True` or `padding='longest'` to pad to the longest sequence in the batch, or use `padding='max_length'` to pad to a max length. In this case, you can give a specific length with `max_length` (e.g. `max_length=45`) or leave max_length to None to pad to the maximal input size of the model (e.g. 512 for Bert).\n",
      "  warnings.warn(\n"
     ]
    }
   ],
   "source": [
    "\n",
    "encoded_data_train = tokenizer.batch_encode_plus(\n",
    "    df[df.type=='train'].text.values,\n",
    "    add_special_tokens=True,\n",
    "    return_attention_mask=True,\n",
    "    pad_to_max_length=True,\n",
    "    max_length=256,\n",
    "    return_tensors='pt'\n",
    ")\n",
    "\n",
    "encoded_data_val = tokenizer.batch_encode_plus(\n",
    "    df[df.type=='val'].text.values,\n",
    "    add_special_tokens=True,\n",
    "    return_attention_mask=True,\n",
    "    pad_to_max_length=True,\n",
    "    max_length=256,\n",
    "    return_tensors='pt'\n",
    ")"
   ]
  },
  {
   "cell_type": "code",
   "execution_count": 19,
   "metadata": {},
   "outputs": [],
   "source": [
    "input_ids_train = encoded_data_train['input_ids']\n",
    "attention_masks_train = encoded_data_train['attention_mask']\n",
    "labels_train = torch.tensor(df[df.type=='train'].label.values)\n"
   ]
  },
  {
   "cell_type": "code",
   "execution_count": 20,
   "metadata": {},
   "outputs": [],
   "source": [
    "input_ids_val = encoded_data_val['input_ids']\n",
    "attention_masks_val = encoded_data_val['attention_mask']\n",
    "labels_val = torch.tensor(df[df.type=='val'].label.values)"
   ]
  },
  {
   "cell_type": "code",
   "execution_count": 21,
   "metadata": {},
   "outputs": [],
   "source": [
    "train_ds = TensorDataset(input_ids_train, attention_masks_train, labels_train)\n",
    "val_ds = TensorDataset(input_ids_val, attention_masks_val, labels_val)"
   ]
  },
  {
   "cell_type": "code",
   "execution_count": 22,
   "metadata": {},
   "outputs": [
    {
     "name": "stdout",
     "output_type": "stream",
     "text": [
      "4250 750\n"
     ]
    }
   ],
   "source": [
    "print(len(train_ds), len(val_ds))"
   ]
  },
  {
   "cell_type": "code",
   "execution_count": 23,
   "metadata": {},
   "outputs": [],
   "source": [
    "from transformers import BertForSequenceClassification"
   ]
  },
  {
   "cell_type": "code",
   "execution_count": 24,
   "metadata": {},
   "outputs": [
    {
     "data": {
      "application/vnd.jupyter.widget-view+json": {
       "model_id": "892eb18a3e8445faa84943b7ac410ab1",
       "version_major": 2,
       "version_minor": 0
      },
      "text/plain": [
       "HBox(children=(HTML(value='Downloading'), FloatProgress(value=0.0, max=433.0), HTML(value='')))"
      ]
     },
     "metadata": {},
     "output_type": "display_data"
    },
    {
     "name": "stdout",
     "output_type": "stream",
     "text": [
      "\n"
     ]
    },
    {
     "data": {
      "application/vnd.jupyter.widget-view+json": {
       "model_id": "cceb62e10a1349619b991f4518d09632",
       "version_major": 2,
       "version_minor": 0
      },
      "text/plain": [
       "HBox(children=(HTML(value='Downloading'), FloatProgress(value=0.0, max=440473133.0), HTML(value='')))"
      ]
     },
     "metadata": {},
     "output_type": "display_data"
    },
    {
     "name": "stdout",
     "output_type": "stream",
     "text": [
      "\n"
     ]
    },
    {
     "name": "stderr",
     "output_type": "stream",
     "text": [
      "Some weights of the model checkpoint at bert-base-uncased were not used when initializing BertForSequenceClassification: ['cls.predictions.bias', 'cls.predictions.transform.dense.weight', 'cls.predictions.transform.dense.bias', 'cls.predictions.decoder.weight', 'cls.seq_relationship.weight', 'cls.seq_relationship.bias', 'cls.predictions.transform.LayerNorm.weight', 'cls.predictions.transform.LayerNorm.bias']\n",
      "- This IS expected if you are initializing BertForSequenceClassification from the checkpoint of a model trained on another task or with another architecture (e.g. initializing a BertForSequenceClassification model from a BertForPreTraining model).\n",
      "- This IS NOT expected if you are initializing BertForSequenceClassification from the checkpoint of a model that you expect to be exactly identical (initializing a BertForSequenceClassification model from a BertForSequenceClassification model).\n",
      "Some weights of BertForSequenceClassification were not initialized from the model checkpoint at bert-base-uncased and are newly initialized: ['classifier.weight', 'classifier.bias']\n",
      "You should probably TRAIN this model on a down-stream task to be able to use it for predictions and inference.\n"
     ]
    }
   ],
   "source": [
    "model = BertForSequenceClassification.from_pretrained(\n",
    "    'bert-base-uncased',\n",
    "    num_labels=len(label_dict),\n",
    "    output_attentions=False,\n",
    "    output_hidden_states=False\n",
    ")"
   ]
  },
  {
   "cell_type": "code",
   "execution_count": 25,
   "metadata": {},
   "outputs": [],
   "source": [
    "from torch.utils.data import DataLoader, RandomSampler, SequentialSampler"
   ]
  },
  {
   "cell_type": "code",
   "execution_count": 26,
   "metadata": {},
   "outputs": [],
   "source": [
    "BATCH_SIZE = 32\n",
    "EPOCHS = 4"
   ]
  },
  {
   "cell_type": "code",
   "execution_count": 27,
   "metadata": {},
   "outputs": [],
   "source": [
    "train_dl = DataLoader(\n",
    "    train_ds,\n",
    "    sampler=RandomSampler(train_ds),\n",
    "    batch_size=BATCH_SIZE\n",
    ")\n",
    "\n",
    "val_dl = DataLoader(\n",
    "    val_ds,\n",
    "    sampler=RandomSampler(val_ds),\n",
    "    batch_size=BATCH_SIZE\n",
    ")"
   ]
  },
  {
   "cell_type": "code",
   "execution_count": 28,
   "metadata": {},
   "outputs": [],
   "source": [
    "from transformers import AdamW, get_linear_schedule_with_warmup"
   ]
  },
  {
   "cell_type": "code",
   "execution_count": 29,
   "metadata": {},
   "outputs": [],
   "source": [
    "optim = AdamW(\n",
    "    model.parameters(),\n",
    "    lr=1e-5,\n",
    "    eps=1e-8\n",
    ")"
   ]
  },
  {
   "cell_type": "code",
   "execution_count": 31,
   "metadata": {},
   "outputs": [],
   "source": [
    "# Number of training epochs. The BERT authors recommend between 2 and 4. \n",
    "# We chose to run for 4, but we'll see later that this may be over-fitting the\n",
    "# training data.\n",
    "epochs = 4\n",
    "\n",
    "# Total number of training steps is [number of batches] x [number of epochs]. \n",
    "# (Note that this is not the same as the number of training samples).\n",
    "total_steps = len(train_dl) * epochs\n",
    "\n",
    "# Create the learning rate scheduler.\n",
    "scheduler = get_linear_schedule_with_warmup(optim, \n",
    "                                            num_warmup_steps = 0, # Default value in run_glue.py\n",
    "                                            num_training_steps = total_steps)"
   ]
  },
  {
   "cell_type": "code",
   "execution_count": 32,
   "metadata": {},
   "outputs": [],
   "source": [
    "# Defining Performance Metrics\n",
    "import numpy as np\n",
    "from sklearn.metrics import f1_score"
   ]
  },
  {
   "cell_type": "code",
   "execution_count": 33,
   "metadata": {},
   "outputs": [],
   "source": [
    "\n",
    "def f1_score_func(preds, labels):\n",
    "    preds_flat = np.argmax(preds, axis=1).flatten()\n",
    "    labels_flat = labels.flatten()\n",
    "    return f1_score(labels_flat, preds_flat, average='weighted')"
   ]
  },
  {
   "cell_type": "code",
   "execution_count": 34,
   "metadata": {},
   "outputs": [],
   "source": [
    "def print_acc_per_class(preds, labels):\n",
    "    preds_flat = np.argmax(preds, axis=1).flatten()\n",
    "    labels_flat = labels.flatten()\n",
    "    for label in np.unique(labels_flat):\n",
    "        total_true = preds_flat[labels_flat == label]\n",
    "        true_positives = total_true[total_true == label]\n",
    "        print(f'Class: {num2label[label]}')\n",
    "        print(f'Accuracy: {len(true_positives)}/{len(total_true)}')"
   ]
  },
  {
   "cell_type": "code",
   "execution_count": 35,
   "metadata": {},
   "outputs": [],
   "source": [
    "# Function to calculate the accuracy of our predictions vs labels\n",
    "def flat_accuracy(preds, labels):\n",
    "    pred_flat = np.argmax(preds, axis=1).flatten()\n",
    "    labels_flat = labels.flatten()\n",
    "    return np.sum(pred_flat == labels_flat) / len(labels_flat)"
   ]
  },
  {
   "cell_type": "code",
   "execution_count": 36,
   "metadata": {},
   "outputs": [],
   "source": [
    "import time\n",
    "import datetime\n",
    "\n",
    "def format_time(elapsed):\n",
    "    '''\n",
    "    Takes a time in seconds and returns a string hh:mm:ss\n",
    "    '''\n",
    "    # Round to the nearest second.\n",
    "    elapsed_rounded = int(round((elapsed)))\n",
    "    \n",
    "    # Format as hh:mm:ss\n",
    "    return str(datetime.timedelta(seconds=elapsed_rounded))"
   ]
  },
  {
   "cell_type": "code",
   "execution_count": 37,
   "metadata": {},
   "outputs": [],
   "source": [
    "import random"
   ]
  },
  {
   "cell_type": "code",
   "execution_count": 41,
   "metadata": {},
   "outputs": [
    {
     "name": "stdout",
     "output_type": "stream",
     "text": [
      "cpu\n"
     ]
    }
   ],
   "source": [
    "device = torch.device('cpu')\n",
    "model.to(device)\n",
    "print(device)"
   ]
  },
  {
   "cell_type": "code",
   "execution_count": 47,
   "metadata": {},
   "outputs": [
    {
     "name": "stdout",
     "output_type": "stream",
     "text": [
      "\n",
      "======== Epoch 1 / 4 ========\n",
      "Training...\n",
      "  Batch    40  of    133.    Elapsed: 0:29:40.\n",
      "  Batch    80  of    133.    Elapsed: 0:59:59.\n",
      "  Batch   120  of    133.    Elapsed: 1:30:03.\n",
      "\n",
      "  Average training loss: 0.28\n",
      "  Training epcoh took: 1:39:45\n",
      "\n",
      "Running Validation...\n",
      "  Accuracy: 0.92\n",
      "  Validation Loss: 0.25\n",
      "  Validation took: 0:06:17\n",
      "\n",
      "======== Epoch 2 / 4 ========\n",
      "Training...\n",
      "  Batch    40  of    133.    Elapsed: 0:30:36.\n",
      "  Batch    80  of    133.    Elapsed: 1:01:26.\n",
      "  Batch   120  of    133.    Elapsed: 1:31:14.\n",
      "\n",
      "  Average training loss: 0.20\n",
      "  Training epcoh took: 1:40:42\n",
      "\n",
      "Running Validation...\n",
      "  Accuracy: 0.93\n",
      "  Validation Loss: 0.21\n",
      "  Validation took: 0:06:07\n",
      "\n",
      "======== Epoch 3 / 4 ========\n",
      "Training...\n",
      "  Batch    40  of    133.    Elapsed: 0:29:50.\n",
      "  Batch    80  of    133.    Elapsed: 0:59:13.\n",
      "  Batch   120  of    133.    Elapsed: 1:28:01.\n",
      "\n",
      "  Average training loss: 0.16\n",
      "  Training epcoh took: 1:37:15\n",
      "\n",
      "Running Validation...\n",
      "  Accuracy: 0.93\n",
      "  Validation Loss: 0.22\n",
      "  Validation took: 0:06:09\n",
      "\n",
      "======== Epoch 4 / 4 ========\n",
      "Training...\n",
      "  Batch    40  of    133.    Elapsed: 0:29:10.\n",
      "  Batch    80  of    133.    Elapsed: 0:57:54.\n",
      "  Batch   120  of    133.    Elapsed: 1:27:19.\n",
      "\n",
      "  Average training loss: 0.14\n",
      "  Training epcoh took: 1:36:53\n",
      "\n",
      "Running Validation...\n",
      "  Accuracy: 0.93\n",
      "  Validation Loss: 0.22\n",
      "  Validation took: 0:06:15\n",
      "\n",
      "Training complete!\n",
      "Total training took 6:59:22 (h:mm:ss)\n"
     ]
    }
   ],
   "source": [
    "import random\n",
    "import numpy as np\n",
    "\n",
    "# This training code is based on the `run_glue.py` script here:\n",
    "# https://github.com/huggingface/transformers/blob/5bfcd0485ece086ebcbed2d008813037968a9e58/examples/run_glue.py#L128\n",
    "\n",
    "# Set the seed value all over the place to make this reproducible.\n",
    "seed_val = 42\n",
    "\n",
    "random.seed(seed_val)\n",
    "np.random.seed(seed_val)\n",
    "torch.manual_seed(seed_val)\n",
    "torch.cuda.manual_seed_all(seed_val)\n",
    "\n",
    "# We'll store a number of quantities such as training and validation loss, \n",
    "# validation accuracy, and timings.\n",
    "training_stats = []\n",
    "\n",
    "# Measure the total training time for the whole run.\n",
    "total_t0 = time.time()\n",
    "\n",
    "# For each epoch...\n",
    "for epoch_i in range(0, epochs):\n",
    "    \n",
    "    # ========================================\n",
    "    #               Training\n",
    "    # ========================================\n",
    "    \n",
    "    # Perform one full pass over the training set.\n",
    "\n",
    "    print(\"\")\n",
    "    print('======== Epoch {:} / {:} ========'.format(epoch_i + 1, epochs))\n",
    "    print('Training...')\n",
    "\n",
    "    # Measure how long the training epoch takes.\n",
    "    t0 = time.time()\n",
    "\n",
    "    # Reset the total loss for this epoch.\n",
    "    total_train_loss = 0\n",
    "\n",
    "    # Put the model into training mode. Don't be mislead--the call to \n",
    "    # `train` just changes the *mode*, it doesn't *perform* the training.\n",
    "    # `dropout` and `batchnorm` layers behave differently during training\n",
    "    # vs. test (source: https://stackoverflow.com/questions/51433378/what-does-model-train-do-in-pytorch)\n",
    "    model.train()\n",
    "\n",
    "    # For each batch of training data...\n",
    "    for step, batch in enumerate(train_dl):\n",
    "\n",
    "        # Progress update every 40 batches.\n",
    "        if step % 40 == 0 and not step == 0:\n",
    "            # Calculate elapsed time in minutes.\n",
    "            elapsed = format_time(time.time() - t0)\n",
    "            \n",
    "            # Report progress.\n",
    "            print('  Batch {:>5,}  of  {:>5,}.    Elapsed: {:}.'.format(step, len(train_dl), elapsed))\n",
    "\n",
    "        # Unpack this training batch from our dataloader. \n",
    "        #\n",
    "        # As we unpack the batch, we'll also copy each tensor to the GPU using the \n",
    "        # `to` method.\n",
    "        #\n",
    "        # `batch` contains three pytorch tensors:\n",
    "        #   [0]: input ids \n",
    "        #   [1]: attention masks\n",
    "        #   [2]: labels \n",
    "        b_input_ids = batch[0].to(device)\n",
    "        b_input_mask = batch[1].to(device)\n",
    "        b_labels = batch[2].to(device)\n",
    "\n",
    "        # Always clear any previously calculated gradients before performing a\n",
    "        # backward pass. PyTorch doesn't do this automatically because \n",
    "        # accumulating the gradients is \"convenient while training RNNs\". \n",
    "        # (source: https://stackoverflow.com/questions/48001598/why-do-we-need-to-call-zero-grad-in-pytorch)\n",
    "        model.zero_grad()        \n",
    "\n",
    "        # Perform a forward pass (evaluate the model on this training batch).\n",
    "        # The documentation for this `model` function is here: \n",
    "        # https://huggingface.co/transformers/v2.2.0/model_doc/bert.html#transformers.BertForSequenceClassification\n",
    "        # It returns different numbers of parameters depending on what arguments\n",
    "        # arge given and what flags are set. For our useage here, it returns\n",
    "        # the loss (because we provided labels) and the \"logits\"--the model\n",
    "        # outputs prior to activation.\n",
    "        \n",
    "        inputs = {\n",
    "            'input_ids': b_input_ids,\n",
    "            'attention_mask': b_input_mask,\n",
    "            'labels': b_labels\n",
    "        }\n",
    "\n",
    "#         loss, logits = model(b_input_ids, \n",
    "#                              token_type_ids=None, \n",
    "#                              attention_mask=b_input_mask, \n",
    "#                              labels=b_labels)\n",
    "        \n",
    "        outputs = model(**inputs)\n",
    "        loss = outputs[0]\n",
    "#         training_loss += loss.item()\n",
    "#         loss.backward()\n",
    "\n",
    "#         logits = logits.detach().cpu().numpy()\n",
    "#         label_ids = inputs['labels'].cpu().numpy()\n",
    "#         predictions.append(logits)\n",
    "#         true_vals.append(label_ids)\n",
    "\n",
    "#         logits = logits.detach().cpu().numpy()\n",
    "#         label_ids = inputs['labels'].cpu().numpy()\n",
    "#         predictions.append(logits)\n",
    "#         true_vals.append(label_ids)\n",
    "\n",
    "        # Accumulate the training loss over all of the batches so that we can\n",
    "        # calculate the average loss at the end. `loss` is a Tensor containing a\n",
    "        # single value; the `.item()` function just returns the Python value \n",
    "        # from the tensor.\n",
    "        total_train_loss += loss.item()\n",
    "\n",
    "        # Perform a backward pass to calculate the gradients.\n",
    "        loss.backward()\n",
    "\n",
    "        # Clip the norm of the gradients to 1.0.\n",
    "        # This is to help prevent the \"exploding gradients\" problem.\n",
    "        torch.nn.utils.clip_grad_norm_(model.parameters(), 1.0)\n",
    "\n",
    "        # Update parameters and take a step using the computed gradient.\n",
    "        # The optimizer dictates the \"update rule\"--how the parameters are\n",
    "        # modified based on their gradients, the learning rate, etc.\n",
    "        optim.step()\n",
    "\n",
    "        # Update the learning rate.\n",
    "        scheduler.step()\n",
    "\n",
    "    # Calculate the average loss over all of the batches.\n",
    "    avg_train_loss = total_train_loss / len(train_dl)            \n",
    "    \n",
    "    # Measure how long this epoch took.\n",
    "    training_time = format_time(time.time() - t0)\n",
    "\n",
    "    print(\"\")\n",
    "    print(\"  Average training loss: {0:.2f}\".format(avg_train_loss))\n",
    "    print(\"  Training epcoh took: {:}\".format(training_time))\n",
    "        \n",
    "    # ========================================\n",
    "    #               Validation\n",
    "    # ========================================\n",
    "    # After the completion of each training epoch, measure our performance on\n",
    "    # our validation set.\n",
    "\n",
    "    print(\"\")\n",
    "    print(\"Running Validation...\")\n",
    "\n",
    "    t0 = time.time()\n",
    "\n",
    "    # Put the model in evaluation mode--the dropout layers behave differently\n",
    "    # during evaluation.\n",
    "    model.eval()\n",
    "\n",
    "    # Tracking variables \n",
    "    total_eval_accuracy = 0\n",
    "    total_eval_loss = 0\n",
    "    nb_eval_steps = 0\n",
    "    \n",
    "    predictions, true_vals = [], []\n",
    "\n",
    "    # Evaluate data for one epoch\n",
    "    for batch in val_dl:\n",
    "        \n",
    "        # Unpack this training batch from our dataloader. \n",
    "        #\n",
    "        # As we unpack the batch, we'll also copy each tensor to the GPU using \n",
    "        # the `to` method.\n",
    "        #\n",
    "        # `batch` contains three pytorch tensors:\n",
    "        #   [0]: input ids \n",
    "        #   [1]: attention masks\n",
    "        #   [2]: labels \n",
    "        b_input_ids = batch[0].to(device)\n",
    "        b_input_mask = batch[1].to(device)\n",
    "        b_labels = batch[2].to(device)\n",
    "        \n",
    "        # Tell pytorch not to bother with constructing the compute graph during\n",
    "        # the forward pass, since this is only needed for backprop (training).\n",
    "        inputs = {\n",
    "            'input_ids': b_input_ids,\n",
    "            'attention_mask': b_input_mask,\n",
    "            'labels': b_labels\n",
    "        }\n",
    "        with torch.no_grad():\n",
    "            outputs = model(**inputs)\n",
    "        loss = outputs[0]\n",
    "        logits = outputs[1]\n",
    "        \n",
    "#         with torch.no_grad():        \n",
    "\n",
    "#             # Forward pass, calculate logit predictions.\n",
    "#             # token_type_ids is the same as the \"segment ids\", which \n",
    "#             # differentiates sentence 1 and 2 in 2-sentence tasks.\n",
    "#             # The documentation for this `model` function is here: \n",
    "#             # https://huggingface.co/transformers/v2.2.0/model_doc/bert.html#transformers.BertForSequenceClassification\n",
    "#             # Get the \"logits\" output by the model. The \"logits\" are the output\n",
    "#             # values prior to applying an activation function like the softmax.\n",
    "#             (loss, logits) = model(b_input_ids, \n",
    "#                                    token_type_ids=None, \n",
    "#                                    attention_mask=b_input_mask,\n",
    "#                                    labels=b_labels)\n",
    "            \n",
    "        # Accumulate the validation loss.\n",
    "        total_eval_loss += loss.item()\n",
    "        \n",
    "\n",
    "        # Move logits and labels to CPU\n",
    "        logits = logits.detach().cpu().numpy()\n",
    "        label_ids = inputs['labels'].cpu().numpy()\n",
    "        \n",
    "        predictions.append(logits)\n",
    "        true_vals.append(label_ids)\n",
    "\n",
    "        # Calculate the accuracy for this batch of test sentences, and\n",
    "        # accumulate it over all batches.\n",
    "        total_eval_accuracy += flat_accuracy(logits, label_ids)\n",
    "        \n",
    "\n",
    "    # Report the final accuracy for this validation run.\n",
    "    avg_val_accuracy = total_eval_accuracy / len(val_dl)\n",
    "    print(\"  Accuracy: {0:.2f}\".format(avg_val_accuracy))\n",
    "\n",
    "    # Calculate the average loss over all of the batches.\n",
    "    avg_val_loss = total_eval_loss / len(val_dl)\n",
    "    \n",
    "    # Measure how long the validation run took.\n",
    "    validation_time = format_time(time.time() - t0)\n",
    "    \n",
    "    print(\"  Validation Loss: {0:.2f}\".format(avg_val_loss))\n",
    "    print(\"  Validation took: {:}\".format(validation_time))\n",
    "\n",
    "    # Record all statistics from this epoch.\n",
    "    training_stats.append(\n",
    "        {\n",
    "            'epoch': epoch_i + 1,\n",
    "            'Training Loss': avg_train_loss,\n",
    "            'Valid. Loss': avg_val_loss,\n",
    "            'Valid. Accur.': avg_val_accuracy,\n",
    "            'Training Time': training_time,\n",
    "            'Validation Time': validation_time\n",
    "        }\n",
    "    )\n",
    "\n",
    "print(\"\")\n",
    "print(\"Training complete!\")\n",
    "\n",
    "print(\"Total training took {:} (h:mm:ss)\".format(format_time(time.time()-total_t0)))"
   ]
  },
  {
   "cell_type": "code",
   "execution_count": 48,
   "metadata": {},
   "outputs": [
    {
     "data": {
      "text/html": [
       "<div>\n",
       "<style scoped>\n",
       "    .dataframe tbody tr th:only-of-type {\n",
       "        vertical-align: middle;\n",
       "    }\n",
       "\n",
       "    .dataframe tbody tr th {\n",
       "        vertical-align: top;\n",
       "    }\n",
       "\n",
       "    .dataframe thead th {\n",
       "        text-align: right;\n",
       "    }\n",
       "</style>\n",
       "<table border=\"1\" class=\"dataframe\">\n",
       "  <thead>\n",
       "    <tr style=\"text-align: right;\">\n",
       "      <th></th>\n",
       "      <th>Training Loss</th>\n",
       "      <th>Valid. Loss</th>\n",
       "      <th>Valid. Accur.</th>\n",
       "      <th>Training Time</th>\n",
       "      <th>Validation Time</th>\n",
       "    </tr>\n",
       "    <tr>\n",
       "      <th>epoch</th>\n",
       "      <th></th>\n",
       "      <th></th>\n",
       "      <th></th>\n",
       "      <th></th>\n",
       "      <th></th>\n",
       "    </tr>\n",
       "  </thead>\n",
       "  <tbody>\n",
       "    <tr>\n",
       "      <th>1</th>\n",
       "      <td>0.28</td>\n",
       "      <td>0.25</td>\n",
       "      <td>0.92</td>\n",
       "      <td>1:39:45</td>\n",
       "      <td>0:06:17</td>\n",
       "    </tr>\n",
       "    <tr>\n",
       "      <th>2</th>\n",
       "      <td>0.20</td>\n",
       "      <td>0.21</td>\n",
       "      <td>0.93</td>\n",
       "      <td>1:40:42</td>\n",
       "      <td>0:06:07</td>\n",
       "    </tr>\n",
       "    <tr>\n",
       "      <th>3</th>\n",
       "      <td>0.16</td>\n",
       "      <td>0.22</td>\n",
       "      <td>0.93</td>\n",
       "      <td>1:37:15</td>\n",
       "      <td>0:06:09</td>\n",
       "    </tr>\n",
       "    <tr>\n",
       "      <th>4</th>\n",
       "      <td>0.14</td>\n",
       "      <td>0.22</td>\n",
       "      <td>0.93</td>\n",
       "      <td>1:36:53</td>\n",
       "      <td>0:06:15</td>\n",
       "    </tr>\n",
       "  </tbody>\n",
       "</table>\n",
       "</div>"
      ],
      "text/plain": [
       "       Training Loss  Valid. Loss  Valid. Accur. Training Time Validation Time\n",
       "epoch                                                                         \n",
       "1               0.28         0.25           0.92       1:39:45         0:06:17\n",
       "2               0.20         0.21           0.93       1:40:42         0:06:07\n",
       "3               0.16         0.22           0.93       1:37:15         0:06:09\n",
       "4               0.14         0.22           0.93       1:36:53         0:06:15"
      ]
     },
     "execution_count": 48,
     "metadata": {},
     "output_type": "execute_result"
    }
   ],
   "source": [
    "import pandas as pd\n",
    "\n",
    "# Display floats with two decimal places.\n",
    "pd.set_option('precision', 2)\n",
    "\n",
    "# Create a DataFrame from our training statistics.\n",
    "df_stats = pd.DataFrame(data=training_stats)\n",
    "\n",
    "# Use the 'epoch' as the row index.\n",
    "df_stats = df_stats.set_index('epoch')\n",
    "\n",
    "# A hack to force the column headers to wrap.\n",
    "#df = df.style.set_table_styles([dict(selector=\"th\",props=[('max-width', '70px')])])\n",
    "\n",
    "# Display the table.\n",
    "df_stats"
   ]
  },
  {
   "cell_type": "code",
   "execution_count": 50,
   "metadata": {},
   "outputs": [
    {
     "data": {
      "image/png": "[encoded data removed]",
      "text/plain": [
       "<Figure size 864x432 with 1 Axes>"
      ]
     },
     "metadata": {},
     "output_type": "display_data"
    }
   ],
   "source": [
    "import matplotlib.pyplot as plt\n",
    "\n",
    "\n",
    "import seaborn as sns\n",
    "\n",
    "# Use plot styling from seaborn.\n",
    "sns.set(style='darkgrid')\n",
    "\n",
    "# Increase the plot size and font size.\n",
    "sns.set(font_scale=1.5)\n",
    "plt.rcParams[\"figure.figsize\"] = (12,6)\n",
    "\n",
    "# Plot the learning curve.\n",
    "plt.plot(df_stats['Training Loss'], 'b-o', label=\"Training\")\n",
    "plt.plot(df_stats['Valid. Loss'], 'g-o', label=\"Validation\")\n",
    "\n",
    "# Label the plot.\n",
    "plt.title(\"Training & Validation Loss\")\n",
    "plt.xlabel(\"Epoch\")\n",
    "plt.ylabel(\"Loss\")\n",
    "plt.legend()\n",
    "plt.xticks([1, 2, 3, 4])\n",
    "\n",
    "plt.show()"
   ]
  },
  {
   "cell_type": "code",
   "execution_count": 51,
   "metadata": {},
   "outputs": [],
   "source": [
    "test_df = pd.read_csv(\n",
    "    'dataset/arya_stark_tweets_test_set_sentiment.csv')"
   ]
  },
  {
   "cell_type": "code",
   "execution_count": 52,
   "metadata": {},
   "outputs": [
    {
     "data": {
      "text/html": [
       "<div>\n",
       "<style scoped>\n",
       "    .dataframe tbody tr th:only-of-type {\n",
       "        vertical-align: middle;\n",
       "    }\n",
       "\n",
       "    .dataframe tbody tr th {\n",
       "        vertical-align: top;\n",
       "    }\n",
       "\n",
       "    .dataframe thead th {\n",
       "        text-align: right;\n",
       "    }\n",
       "</style>\n",
       "<table border=\"1\" class=\"dataframe\">\n",
       "  <thead>\n",
       "    <tr style=\"text-align: right;\">\n",
       "      <th></th>\n",
       "      <th>text</th>\n",
       "      <th>sentiment</th>\n",
       "      <th>polarity</th>\n",
       "      <th>subjectivity</th>\n",
       "      <th>Preprocess</th>\n",
       "    </tr>\n",
       "  </thead>\n",
       "  <tbody>\n",
       "    <tr>\n",
       "      <th>0</th>\n",
       "      <td>@AryaStark_got_ Men duuuu🤩🤩🤩\\n😍😍😍😍😍😍😍</td>\n",
       "      <td>Neu</td>\n",
       "      <td>0.00</td>\n",
       "      <td>0.00</td>\n",
       "      <td>aryastark_got_ men duuuu</td>\n",
       "    </tr>\n",
       "    <tr>\n",
       "      <th>1</th>\n",
       "      <td>@munkhchuluun_s Хмм, бас л олон нүүртэй хүн юм...</td>\n",
       "      <td>Neg</td>\n",
       "      <td>-0.20</td>\n",
       "      <td>0.60</td>\n",
       "      <td>munkhchuluun_s хмм бас л олон нүүртэй хүн юмаа...</td>\n",
       "    </tr>\n",
       "    <tr>\n",
       "      <th>2</th>\n",
       "      <td>@aryastark_8 ظرفیت گلاب آدینه رو نداشته دیگه ر...</td>\n",
       "      <td>Neu</td>\n",
       "      <td>0.00</td>\n",
       "      <td>0.00</td>\n",
       "      <td>aryastark_8 ظرفیت گلاب آدینه رو نداشته دیگه رف...</td>\n",
       "    </tr>\n",
       "    <tr>\n",
       "      <th>3</th>\n",
       "      <td>@ElGodUsopp Quien es tu fav de juego de tronos...</td>\n",
       "      <td>Neg</td>\n",
       "      <td>-0.20</td>\n",
       "      <td>0.60</td>\n",
       "      <td>elgodusopp quien e tu fav de juego de tronos l...</td>\n",
       "    </tr>\n",
       "    <tr>\n",
       "      <th>4</th>\n",
       "      <td>@starksdany @dnarrysdragons She's not...Arya S...</td>\n",
       "      <td>Pos</td>\n",
       "      <td>0.15</td>\n",
       "      <td>0.55</td>\n",
       "      <td>starksdany dnarrysdragons she not arya stark t...</td>\n",
       "    </tr>\n",
       "  </tbody>\n",
       "</table>\n",
       "</div>"
      ],
      "text/plain": [
       "                                                text sentiment  polarity  \\\n",
       "0              @AryaStark_got_ Men duuuu🤩🤩🤩\\n😍😍😍😍😍😍😍       Neu      0.00   \n",
       "1  @munkhchuluun_s Хмм, бас л олон нүүртэй хүн юм...       Neg     -0.20   \n",
       "2  @aryastark_8 ظرفیت گلاب آدینه رو نداشته دیگه ر...       Neu      0.00   \n",
       "3  @ElGodUsopp Quien es tu fav de juego de tronos...       Neg     -0.20   \n",
       "4  @starksdany @dnarrysdragons She's not...Arya S...       Pos      0.15   \n",
       "\n",
       "   subjectivity                                         Preprocess  \n",
       "0          0.00                           aryastark_got_ men duuuu  \n",
       "1          0.60  munkhchuluun_s хмм бас л олон нүүртэй хүн юмаа...  \n",
       "2          0.00  aryastark_8 ظرفیت گلاب آدینه رو نداشته دیگه رف...  \n",
       "3          0.60  elgodusopp quien e tu fav de juego de tronos l...  \n",
       "4          0.55  starksdany dnarrysdragons she not arya stark t...  "
      ]
     },
     "execution_count": 52,
     "metadata": {},
     "output_type": "execute_result"
    }
   ],
   "source": [
    "test_df.head()"
   ]
  },
  {
   "cell_type": "code",
   "execution_count": 53,
   "metadata": {},
   "outputs": [
    {
     "data": {
      "text/plain": [
       "Neu    3319\n",
       "Neg    1188\n",
       "Pos     493\n",
       "Name: sentiment, dtype: int64"
      ]
     },
     "execution_count": 53,
     "metadata": {},
     "output_type": "execute_result"
    }
   ],
   "source": [
    "test_df.sentiment.value_counts()"
   ]
  },
  {
   "cell_type": "code",
   "execution_count": 54,
   "metadata": {},
   "outputs": [],
   "source": [
    "label_dict = {l:i for i,l in enumerate(df.sentiment.unique())}\n",
    "num2label = {v:k for k, v in label_dict.items()}"
   ]
  },
  {
   "cell_type": "code",
   "execution_count": 55,
   "metadata": {},
   "outputs": [
    {
     "data": {
      "text/plain": [
       "{'Neg': 0, 'Pos': 1, 'Neu': 2}"
      ]
     },
     "execution_count": 55,
     "metadata": {},
     "output_type": "execute_result"
    }
   ],
   "source": [
    "num2label\n",
    "label_dict"
   ]
  },
  {
   "cell_type": "code",
   "execution_count": 56,
   "metadata": {},
   "outputs": [
    {
     "data": {
      "text/html": [
       "<div>\n",
       "<style scoped>\n",
       "    .dataframe tbody tr th:only-of-type {\n",
       "        vertical-align: middle;\n",
       "    }\n",
       "\n",
       "    .dataframe tbody tr th {\n",
       "        vertical-align: top;\n",
       "    }\n",
       "\n",
       "    .dataframe thead th {\n",
       "        text-align: right;\n",
       "    }\n",
       "</style>\n",
       "<table border=\"1\" class=\"dataframe\">\n",
       "  <thead>\n",
       "    <tr style=\"text-align: right;\">\n",
       "      <th></th>\n",
       "      <th>text</th>\n",
       "      <th>sentiment</th>\n",
       "      <th>polarity</th>\n",
       "      <th>subjectivity</th>\n",
       "      <th>Preprocess</th>\n",
       "      <th>label</th>\n",
       "    </tr>\n",
       "  </thead>\n",
       "  <tbody>\n",
       "    <tr>\n",
       "      <th>0</th>\n",
       "      <td>@AryaStark_got_ Men duuuu🤩🤩🤩\\n😍😍😍😍😍😍😍</td>\n",
       "      <td>Neu</td>\n",
       "      <td>0.00</td>\n",
       "      <td>0.00</td>\n",
       "      <td>aryastark_got_ men duuuu</td>\n",
       "      <td>0</td>\n",
       "    </tr>\n",
       "    <tr>\n",
       "      <th>1</th>\n",
       "      <td>@munkhchuluun_s Хмм, бас л олон нүүртэй хүн юм...</td>\n",
       "      <td>Neg</td>\n",
       "      <td>-0.20</td>\n",
       "      <td>0.60</td>\n",
       "      <td>munkhchuluun_s хмм бас л олон нүүртэй хүн юмаа...</td>\n",
       "      <td>1</td>\n",
       "    </tr>\n",
       "    <tr>\n",
       "      <th>2</th>\n",
       "      <td>@aryastark_8 ظرفیت گلاب آدینه رو نداشته دیگه ر...</td>\n",
       "      <td>Neu</td>\n",
       "      <td>0.00</td>\n",
       "      <td>0.00</td>\n",
       "      <td>aryastark_8 ظرفیت گلاب آدینه رو نداشته دیگه رف...</td>\n",
       "      <td>1</td>\n",
       "    </tr>\n",
       "    <tr>\n",
       "      <th>3</th>\n",
       "      <td>@ElGodUsopp Quien es tu fav de juego de tronos...</td>\n",
       "      <td>Neg</td>\n",
       "      <td>-0.20</td>\n",
       "      <td>0.60</td>\n",
       "      <td>elgodusopp quien e tu fav de juego de tronos l...</td>\n",
       "      <td>0</td>\n",
       "    </tr>\n",
       "    <tr>\n",
       "      <th>4</th>\n",
       "      <td>@starksdany @dnarrysdragons She's not...Arya S...</td>\n",
       "      <td>Pos</td>\n",
       "      <td>0.15</td>\n",
       "      <td>0.55</td>\n",
       "      <td>starksdany dnarrysdragons she not arya stark t...</td>\n",
       "      <td>2</td>\n",
       "    </tr>\n",
       "  </tbody>\n",
       "</table>\n",
       "</div>"
      ],
      "text/plain": [
       "                                                text sentiment  polarity  \\\n",
       "0              @AryaStark_got_ Men duuuu🤩🤩🤩\\n😍😍😍😍😍😍😍       Neu      0.00   \n",
       "1  @munkhchuluun_s Хмм, бас л олон нүүртэй хүн юм...       Neg     -0.20   \n",
       "2  @aryastark_8 ظرفیت گلاب آدینه رو نداشته دیگه ر...       Neu      0.00   \n",
       "3  @ElGodUsopp Quien es tu fav de juego de tronos...       Neg     -0.20   \n",
       "4  @starksdany @dnarrysdragons She's not...Arya S...       Pos      0.15   \n",
       "\n",
       "   subjectivity                                         Preprocess  label  \n",
       "0          0.00                           aryastark_got_ men duuuu      0  \n",
       "1          0.60  munkhchuluun_s хмм бас л олон нүүртэй хүн юмаа...      1  \n",
       "2          0.00  aryastark_8 ظرفیت گلاب آدینه رو نداشته دیگه رف...      1  \n",
       "3          0.60  elgodusopp quien e tu fav de juego de tronos l...      0  \n",
       "4          0.55  starksdany dnarrysdragons she not arya stark t...      2  "
      ]
     },
     "execution_count": 56,
     "metadata": {},
     "output_type": "execute_result"
    }
   ],
   "source": [
    "test_df['label'] = df.sentiment.replace(label_dict)\n",
    "test_df.head()"
   ]
  },
  {
   "cell_type": "code",
   "execution_count": 58,
   "metadata": {},
   "outputs": [
    {
     "data": {
      "text/html": [
       "<div>\n",
       "<style scoped>\n",
       "    .dataframe tbody tr th:only-of-type {\n",
       "        vertical-align: middle;\n",
       "    }\n",
       "\n",
       "    .dataframe tbody tr th {\n",
       "        vertical-align: top;\n",
       "    }\n",
       "\n",
       "    .dataframe thead th {\n",
       "        text-align: right;\n",
       "    }\n",
       "</style>\n",
       "<table border=\"1\" class=\"dataframe\">\n",
       "  <thead>\n",
       "    <tr style=\"text-align: right;\">\n",
       "      <th></th>\n",
       "      <th>text</th>\n",
       "      <th>sentiment</th>\n",
       "      <th>polarity</th>\n",
       "      <th>subjectivity</th>\n",
       "      <th>Preprocess</th>\n",
       "      <th>label</th>\n",
       "      <th>type</th>\n",
       "    </tr>\n",
       "  </thead>\n",
       "  <tbody>\n",
       "    <tr>\n",
       "      <th>0</th>\n",
       "      <td>@AryaStark_got_ Men duuuu🤩🤩🤩\\n😍😍😍😍😍😍😍</td>\n",
       "      <td>Neu</td>\n",
       "      <td>0.00</td>\n",
       "      <td>0.00</td>\n",
       "      <td>aryastark_got_ men duuuu</td>\n",
       "      <td>0</td>\n",
       "      <td>test</td>\n",
       "    </tr>\n",
       "    <tr>\n",
       "      <th>1</th>\n",
       "      <td>@munkhchuluun_s Хмм, бас л олон нүүртэй хүн юм...</td>\n",
       "      <td>Neg</td>\n",
       "      <td>-0.20</td>\n",
       "      <td>0.60</td>\n",
       "      <td>munkhchuluun_s хмм бас л олон нүүртэй хүн юмаа...</td>\n",
       "      <td>1</td>\n",
       "      <td>test</td>\n",
       "    </tr>\n",
       "    <tr>\n",
       "      <th>2</th>\n",
       "      <td>@aryastark_8 ظرفیت گلاب آدینه رو نداشته دیگه ر...</td>\n",
       "      <td>Neu</td>\n",
       "      <td>0.00</td>\n",
       "      <td>0.00</td>\n",
       "      <td>aryastark_8 ظرفیت گلاب آدینه رو نداشته دیگه رف...</td>\n",
       "      <td>1</td>\n",
       "      <td>test</td>\n",
       "    </tr>\n",
       "    <tr>\n",
       "      <th>3</th>\n",
       "      <td>@ElGodUsopp Quien es tu fav de juego de tronos...</td>\n",
       "      <td>Neg</td>\n",
       "      <td>-0.20</td>\n",
       "      <td>0.60</td>\n",
       "      <td>elgodusopp quien e tu fav de juego de tronos l...</td>\n",
       "      <td>0</td>\n",
       "      <td>test</td>\n",
       "    </tr>\n",
       "    <tr>\n",
       "      <th>4</th>\n",
       "      <td>@starksdany @dnarrysdragons She's not...Arya S...</td>\n",
       "      <td>Pos</td>\n",
       "      <td>0.15</td>\n",
       "      <td>0.55</td>\n",
       "      <td>starksdany dnarrysdragons she not arya stark t...</td>\n",
       "      <td>2</td>\n",
       "      <td>test</td>\n",
       "    </tr>\n",
       "  </tbody>\n",
       "</table>\n",
       "</div>"
      ],
      "text/plain": [
       "                                                text sentiment  polarity  \\\n",
       "0              @AryaStark_got_ Men duuuu🤩🤩🤩\\n😍😍😍😍😍😍😍       Neu      0.00   \n",
       "1  @munkhchuluun_s Хмм, бас л олон нүүртэй хүн юм...       Neg     -0.20   \n",
       "2  @aryastark_8 ظرفیت گلاب آدینه رو نداشته دیگه ر...       Neu      0.00   \n",
       "3  @ElGodUsopp Quien es tu fav de juego de tronos...       Neg     -0.20   \n",
       "4  @starksdany @dnarrysdragons She's not...Arya S...       Pos      0.15   \n",
       "\n",
       "   subjectivity                                         Preprocess  label  \\\n",
       "0          0.00                           aryastark_got_ men duuuu      0   \n",
       "1          0.60  munkhchuluun_s хмм бас л олон нүүртэй хүн юмаа...      1   \n",
       "2          0.00  aryastark_8 ظرفیت گلاب آدینه رو نداشته دیگه رف...      1   \n",
       "3          0.60  elgodusopp quien e tu fav de juego de tronos l...      0   \n",
       "4          0.55  starksdany dnarrysdragons she not arya stark t...      2   \n",
       "\n",
       "   type  \n",
       "0  test  \n",
       "1  test  \n",
       "2  test  \n",
       "3  test  \n",
       "4  test  "
      ]
     },
     "execution_count": 58,
     "metadata": {},
     "output_type": "execute_result"
    }
   ],
   "source": [
    "test_df['type'] = ['test'] * test_df.shape[0]\n",
    "test_df.head()"
   ]
  },
  {
   "cell_type": "code",
   "execution_count": 59,
   "metadata": {},
   "outputs": [
    {
     "data": {
      "text/html": [
       "<div>\n",
       "<style scoped>\n",
       "    .dataframe tbody tr th:only-of-type {\n",
       "        vertical-align: middle;\n",
       "    }\n",
       "\n",
       "    .dataframe tbody tr th {\n",
       "        vertical-align: top;\n",
       "    }\n",
       "\n",
       "    .dataframe thead th {\n",
       "        text-align: right;\n",
       "    }\n",
       "</style>\n",
       "<table border=\"1\" class=\"dataframe\">\n",
       "  <thead>\n",
       "    <tr style=\"text-align: right;\">\n",
       "      <th></th>\n",
       "      <th></th>\n",
       "      <th></th>\n",
       "      <th>text</th>\n",
       "      <th>polarity</th>\n",
       "      <th>subjectivity</th>\n",
       "      <th>Preprocess</th>\n",
       "    </tr>\n",
       "    <tr>\n",
       "      <th>sentiment</th>\n",
       "      <th>label</th>\n",
       "      <th>type</th>\n",
       "      <th></th>\n",
       "      <th></th>\n",
       "      <th></th>\n",
       "      <th></th>\n",
       "    </tr>\n",
       "  </thead>\n",
       "  <tbody>\n",
       "    <tr>\n",
       "      <th rowspan=\"3\" valign=\"top\">Neg</th>\n",
       "      <th>0</th>\n",
       "      <th>test</th>\n",
       "      <td>708</td>\n",
       "      <td>708</td>\n",
       "      <td>708</td>\n",
       "      <td>708</td>\n",
       "    </tr>\n",
       "    <tr>\n",
       "      <th>1</th>\n",
       "      <th>test</th>\n",
       "      <td>95</td>\n",
       "      <td>95</td>\n",
       "      <td>95</td>\n",
       "      <td>95</td>\n",
       "    </tr>\n",
       "    <tr>\n",
       "      <th>2</th>\n",
       "      <th>test</th>\n",
       "      <td>385</td>\n",
       "      <td>385</td>\n",
       "      <td>385</td>\n",
       "      <td>385</td>\n",
       "    </tr>\n",
       "    <tr>\n",
       "      <th rowspan=\"3\" valign=\"top\">Neu</th>\n",
       "      <th>0</th>\n",
       "      <th>test</th>\n",
       "      <td>1983</td>\n",
       "      <td>1983</td>\n",
       "      <td>1983</td>\n",
       "      <td>1983</td>\n",
       "    </tr>\n",
       "    <tr>\n",
       "      <th>1</th>\n",
       "      <th>test</th>\n",
       "      <td>252</td>\n",
       "      <td>252</td>\n",
       "      <td>252</td>\n",
       "      <td>252</td>\n",
       "    </tr>\n",
       "    <tr>\n",
       "      <th>2</th>\n",
       "      <th>test</th>\n",
       "      <td>1084</td>\n",
       "      <td>1084</td>\n",
       "      <td>1084</td>\n",
       "      <td>1084</td>\n",
       "    </tr>\n",
       "    <tr>\n",
       "      <th rowspan=\"3\" valign=\"top\">Pos</th>\n",
       "      <th>0</th>\n",
       "      <th>test</th>\n",
       "      <td>292</td>\n",
       "      <td>292</td>\n",
       "      <td>292</td>\n",
       "      <td>292</td>\n",
       "    </tr>\n",
       "    <tr>\n",
       "      <th>1</th>\n",
       "      <th>test</th>\n",
       "      <td>46</td>\n",
       "      <td>46</td>\n",
       "      <td>46</td>\n",
       "      <td>46</td>\n",
       "    </tr>\n",
       "    <tr>\n",
       "      <th>2</th>\n",
       "      <th>test</th>\n",
       "      <td>155</td>\n",
       "      <td>155</td>\n",
       "      <td>155</td>\n",
       "      <td>155</td>\n",
       "    </tr>\n",
       "  </tbody>\n",
       "</table>\n",
       "</div>"
      ],
      "text/plain": [
       "                      text  polarity  subjectivity  Preprocess\n",
       "sentiment label type                                          \n",
       "Neg       0     test   708       708           708         708\n",
       "          1     test    95        95            95          95\n",
       "          2     test   385       385           385         385\n",
       "Neu       0     test  1983      1983          1983        1983\n",
       "          1     test   252       252           252         252\n",
       "          2     test  1084      1084          1084        1084\n",
       "Pos       0     test   292       292           292         292\n",
       "          1     test    46        46            46          46\n",
       "          2     test   155       155           155         155"
      ]
     },
     "execution_count": 59,
     "metadata": {},
     "output_type": "execute_result"
    }
   ],
   "source": [
    "test_df.groupby(['sentiment', 'label', 'type']).count()"
   ]
  },
  {
   "cell_type": "code",
   "execution_count": 60,
   "metadata": {},
   "outputs": [],
   "source": [
    "sentences = test_df.text.values\n",
    "labels = test_df.label.values"
   ]
  },
  {
   "cell_type": "code",
   "execution_count": 61,
   "metadata": {},
   "outputs": [
    {
     "data": {
      "text/plain": [
       "array(['@AryaStark_got_ Men duuuu🤩🤩🤩\\n😍😍😍😍😍😍😍',\n",
       "       '@munkhchuluun_s Хмм, бас л олон нүүртэй хүн юмаа арай2\\n#Arya Stark хажууд нь зарчимтай хүн юм байна, хөөрхий https://t.co/WbDpVd9l4l',\n",
       "       '@aryastark_8 ظرفیت گلاب آدینه رو نداشته دیگه رفته دنبال لیاقتش',\n",
       "       ...,\n",
       "       '@AryaStark_got_ Det blir inte bättre än så. Ha en mysig kväll med barnen!',\n",
       "       '@__Arya_Stark___ تنکس 🌹\\nاینو یادم رفت 😬',\n",
       "       '@__Arya_Stark___ امیدوارم 😂😂'], dtype=object)"
      ]
     },
     "execution_count": 61,
     "metadata": {},
     "output_type": "execute_result"
    }
   ],
   "source": [
    "sentences"
   ]
  },
  {
   "cell_type": "code",
   "execution_count": 62,
   "metadata": {},
   "outputs": [
    {
     "data": {
      "text/plain": [
       "array([0, 1, 1, ..., 2, 0, 0], dtype=int64)"
      ]
     },
     "execution_count": 62,
     "metadata": {},
     "output_type": "execute_result"
    }
   ],
   "source": [
    "labels"
   ]
  },
  {
   "cell_type": "code",
   "execution_count": 63,
   "metadata": {},
   "outputs": [
    {
     "name": "stdout",
     "output_type": "stream",
     "text": [
      "Number of test sentences: 5,000\n",
      "\n"
     ]
    },
    {
     "name": "stderr",
     "output_type": "stream",
     "text": [
      "c:\\users\\lahir\\appdata\\local\\programs\\python\\python38\\lib\\site-packages\\transformers\\tokenization_utils_base.py:2136: FutureWarning: The `pad_to_max_length` argument is deprecated and will be removed in a future version, use `padding=True` or `padding='longest'` to pad to the longest sequence in the batch, or use `padding='max_length'` to pad to a max length. In this case, you can give a specific length with `max_length` (e.g. `max_length=45`) or leave max_length to None to pad to the maximal input size of the model (e.g. 512 for Bert).\n",
      "  warnings.warn(\n"
     ]
    }
   ],
   "source": [
    "# Report the number of sentences.\n",
    "print('Number of test sentences: {:,}\\n'.format(test_df.shape[0]))\n",
    "\n",
    "\n",
    "# Tokenize all of the sentences and map the tokens to thier word IDs.\n",
    "input_ids = []\n",
    "attention_masks = []\n",
    "\n",
    "# For every sentence...\n",
    "for sent in sentences:\n",
    "    # `encode_plus` will:\n",
    "    #   (1) Tokenize the sentence.\n",
    "    #   (2) Prepend the `[CLS]` token to the start.\n",
    "    #   (3) Append the `[SEP]` token to the end.\n",
    "    #   (4) Map tokens to their IDs.\n",
    "    #   (5) Pad or truncate the sentence to `max_length`\n",
    "    #   (6) Create attention masks for [PAD] tokens.\n",
    "    encoded_dict = tokenizer.encode_plus(\n",
    "                        sent,                      # Sentence to encode.\n",
    "                        add_special_tokens = True, # Add '[CLS]' and '[SEP]'\n",
    "                        max_length = 64,           # Pad & truncate all sentences.\n",
    "                        pad_to_max_length = True,\n",
    "                        return_attention_mask = True,   # Construct attn. masks.\n",
    "                        return_tensors = 'pt',     # Return pytorch tensors.\n",
    "                   )\n",
    "    \n",
    "    # Add the encoded sentence to the list.    \n",
    "    input_ids.append(encoded_dict['input_ids'])\n",
    "    \n",
    "    # And its attention mask (simply differentiates padding from non-padding).\n",
    "    attention_masks.append(encoded_dict['attention_mask'])\n",
    "\n",
    "# Convert the lists into tensors.\n",
    "input_ids = torch.cat(input_ids, dim=0)\n",
    "attention_masks = torch.cat(attention_masks, dim=0)\n",
    "labels = torch.tensor(labels)\n",
    "\n",
    "# Set the batch size.  \n",
    "batch_size = 32  \n",
    "\n",
    "# Create the DataLoader.\n",
    "prediction_data = TensorDataset(input_ids, attention_masks, labels)\n",
    "prediction_sampler = SequentialSampler(prediction_data)\n",
    "prediction_dataloader = DataLoader(prediction_data, sampler=prediction_sampler, batch_size=batch_size)"
   ]
  },
  {
   "cell_type": "code",
   "execution_count": 89,
   "metadata": {},
   "outputs": [
    {
     "name": "stdout",
     "output_type": "stream",
     "text": [
      "Predicting labels for 5,000 test sentences...\n",
      "    DONE.\n",
      "Positive samples: 3641 of 5000 (72.82%)\n"
     ]
    }
   ],
   "source": [
    "# Prediction on test set\n",
    "\n",
    "print('Predicting labels for {:,} test sentences...'.format(len(input_ids)))\n",
    "\n",
    "# Put model in evaluation mode\n",
    "model.eval()\n",
    "\n",
    "val_loss = 0\n",
    "\n",
    "# Tracking variables \n",
    "predictions , true_labels = [], []\n",
    "true_vals = []\n",
    "\n",
    "# Predict \n",
    "# for batch in prediction_dataloader:\n",
    "#   # Add batch to GPU\n",
    "#           batch = tuple(t.to(device) for t in batch)\n",
    "#           inputs = {\n",
    "#             'input_ids': batch[0],\n",
    "#             'attention_mask': batch[1],\n",
    "#             'labels': batch[2]\n",
    "#         }\n",
    "#     with torch.no_grad():\n",
    "#             outputs = model(**inputs)\n",
    "#         loss = outputs[0]\n",
    "#         logits = outputs[1]\n",
    "#         val_loss += loss.item()\n",
    "\n",
    "#         logits = logits.detach().cpu().numpy()\n",
    "#         label_ids = inputs['labels'].cpu().numpy()\n",
    "#         predictions.append(logits)\n",
    "#         true_vals.append(label_ids)\n",
    "#         true_labels.append(label_ids)\n",
    "\n",
    "for batch in prediction_dataloader:\n",
    "    batch = tuple(b.to(device) for b in batch)\n",
    "    inputs = {\n",
    "            'input_ids': batch[0],\n",
    "            'attention_mask': batch[1],\n",
    "            'labels': batch[2]\n",
    "    }\n",
    "    with torch.no_grad():\n",
    "        outputs = model(**inputs)\n",
    "    loss = outputs[0]\n",
    "    logits = outputs[1]\n",
    "    val_loss += loss.item()\n",
    "\n",
    "    logits = logits.detach().cpu().numpy()\n",
    "    label_ids = inputs['labels'].cpu().numpy()\n",
    "    predictions.append(logits)\n",
    "    true_vals.append(label_ids)\n",
    "\n",
    "    \n",
    "# val_loss_avg = val_loss/len(val_dl)\n",
    "# prediction = np.concatenate(predictions, axis=0)\n",
    "# true_vals = np.concatenate(true_vals, axis=0)\n",
    "\n",
    "    \n",
    "\n",
    "  \n",
    "  # Unpack the inputs from our dataloader\n",
    "#   b_input_ids, b_input_mask, b_labels = batch\n",
    "  \n",
    "  # Telling the model not to compute or store gradients, saving memory and \n",
    "  # speeding up prediction\n",
    "#   with torch.no_grad():\n",
    "#       # Forward pass, calculate logit predictions\n",
    "#       outputs = model(b_input_ids, token_type_ids=None, \n",
    "#                       attention_mask=b_input_mask)\n",
    "\n",
    "#   logits = outputs[0]\n",
    "\n",
    "  # Move logits and labels to CPU\n",
    "#   logits = logits.detach().cpu().numpy()\n",
    "#   label_ids = b_labels.to('cpu').numpy()\n",
    "  \n",
    "  # Store predictions and true labels\n",
    "# predictions.append(logits)\n",
    "#   true_labels.append(label_ids)\n",
    "\n",
    "print('    DONE.')\n",
    "\n",
    "print('Positive samples: %d of %d (%.2f%%)' % (test_df.label.sum(), len(test_df.label), (test_df.label.sum() / len(test_df.label) * 100.0)))"
   ]
  },
  {
   "cell_type": "code",
   "execution_count": 81,
   "metadata": {},
   "outputs": [
    {
     "data": {
      "text/plain": [
       "[array([0, 1, 1, 0, 2, 2, 0, 0, 0, 0, 0, 0, 2, 2, 0, 1, 0, 0, 0, 0, 0, 0,\n",
       "        0, 0, 0, 0, 0, 0, 0, 1, 0, 0], dtype=int64),\n",
       " array([0, 0, 0, 0, 0, 0, 0, 0, 0, 0, 1, 0, 2, 2, 0, 0, 0, 0, 0, 0, 0, 0,\n",
       "        0, 0, 0, 2, 1, 1, 2, 0, 0, 2], dtype=int64),\n",
       " array([0, 0, 0, 2, 0, 0, 0, 0, 0, 0, 0, 0, 0, 0, 0, 2, 0, 0, 1, 0, 0, 0,\n",
       "        2, 2, 2, 2, 0, 0, 0, 0, 0, 0], dtype=int64),\n",
       " array([0, 0, 0, 2, 2, 2, 2, 0, 0, 0, 0, 0, 0, 0, 0, 0, 0, 2, 0, 2, 1, 0,\n",
       "        0, 0, 0, 0, 0, 1, 0, 0, 2, 0], dtype=int64),\n",
       " array([0, 0, 0, 0, 0, 0, 0, 0, 2, 0, 0, 0, 0, 2, 2, 2, 0, 2, 2, 0, 0, 2,\n",
       "        0, 2, 0, 0, 2, 0, 0, 0, 1, 2], dtype=int64),\n",
       " array([2, 2, 0, 2, 1, 2, 2, 2, 2, 0, 2, 2, 2, 2, 2, 2, 0, 2, 2, 2, 2, 2,\n",
       "        0, 2, 1, 2, 1, 2, 1, 2, 1, 0], dtype=int64),\n",
       " array([0, 2, 2, 2, 2, 2, 2, 2, 0, 0, 0, 0, 2, 0, 0, 0, 0, 2, 0, 2, 1, 0,\n",
       "        0, 0, 0, 0, 0, 0, 0, 2, 0, 2], dtype=int64),\n",
       " array([0, 2, 0, 2, 1, 0, 0, 2, 1, 0, 0, 2, 2, 2, 1, 0, 0, 0, 2, 2, 0, 0,\n",
       "        2, 0, 0, 0, 0, 1, 0, 0, 2, 2], dtype=int64),\n",
       " array([2, 0, 2, 2, 2, 0, 1, 2, 1, 1, 2, 2, 0, 0, 2, 0, 0, 1, 2, 2, 2, 2,\n",
       "        2, 2, 2, 2, 0, 2, 2, 2, 0, 0], dtype=int64),\n",
       " array([2, 0, 2, 2, 1, 2, 2, 0, 2, 2, 2, 2, 2, 2, 2, 2, 2, 2, 2, 2, 2, 2,\n",
       "        2, 1, 0, 2, 0, 2, 2, 0, 0, 2], dtype=int64),\n",
       " array([0, 0, 2, 2, 2, 0, 2, 2, 0, 2, 2, 0, 2, 2, 2, 2, 2, 1, 0, 2, 0, 2,\n",
       "        2, 0, 0, 0, 0, 2, 0, 0, 1, 0], dtype=int64),\n",
       " array([0, 0, 0, 2, 2, 0, 0, 2, 0, 1, 1, 2, 1, 0, 0, 0, 2, 1, 1, 0, 2, 2,\n",
       "        2, 0, 0, 2, 0, 0, 0, 0, 0, 2], dtype=int64),\n",
       " array([1, 2, 0, 2, 0, 2, 1, 2, 2, 2, 2, 2, 0, 0, 0, 0, 0, 0, 0, 0, 1, 0,\n",
       "        2, 2, 0, 2, 0, 0, 0, 0, 0, 2], dtype=int64),\n",
       " array([2, 0, 0, 0, 1, 2, 0, 0, 0, 2, 2, 1, 0, 1, 1, 2, 0, 2, 0, 2, 2, 2,\n",
       "        2, 0, 2, 2, 0, 2, 2, 2, 2, 2], dtype=int64),\n",
       " array([2, 1, 2, 1, 0, 0, 0, 0, 2, 2, 0, 0, 0, 0, 2, 0, 2, 1, 0, 0, 1, 0,\n",
       "        2, 1, 0, 0, 0, 0, 2, 2, 0, 0], dtype=int64),\n",
       " array([2, 0, 2, 0, 1, 2, 0, 2, 2, 0, 0, 0, 0, 2, 0, 0, 2, 0, 0, 2, 2, 2,\n",
       "        2, 0, 0, 0, 0, 1, 0, 0, 0, 0], dtype=int64),\n",
       " array([0, 0, 2, 0, 0, 1, 0, 0, 0, 0, 0, 0, 0, 0, 1, 2, 0, 0, 0, 0, 0, 0,\n",
       "        1, 0, 0, 2, 1, 2, 0, 0, 1, 2], dtype=int64),\n",
       " array([0, 0, 0, 0, 0, 0, 1, 1, 0, 0, 2, 0, 0, 0, 1, 2, 2, 0, 2, 0, 2, 0,\n",
       "        0, 0, 0, 0, 0, 0, 0, 0, 0, 0], dtype=int64),\n",
       " array([2, 2, 0, 0, 0, 2, 0, 0, 0, 0, 0, 0, 0, 1, 0, 0, 1, 0, 0, 0, 1, 1,\n",
       "        0, 0, 0, 0, 0, 2, 2, 0, 0, 2], dtype=int64),\n",
       " array([1, 2, 2, 2, 1, 0, 0, 0, 2, 0, 1, 0, 0, 0, 2, 0, 0, 0, 0, 0, 2, 0,\n",
       "        2, 2, 0, 0, 0, 0, 0, 2, 2, 0], dtype=int64),\n",
       " array([2, 2, 2, 0, 2, 0, 0, 0, 2, 0, 2, 0, 1, 2, 0, 2, 2, 0, 0, 0, 0, 2,\n",
       "        0, 2, 2, 0, 0, 1, 2, 0, 2, 2], dtype=int64),\n",
       " array([0, 0, 2, 0, 2, 2, 2, 0, 2, 2, 0, 2, 2, 2, 2, 0, 2, 0, 2, 2, 2, 2,\n",
       "        2, 2, 2, 2, 2, 2, 2, 2, 2, 1], dtype=int64),\n",
       " array([2, 2, 2, 2, 2, 2, 2, 2, 0, 2, 2, 0, 2, 2, 0, 2, 2, 2, 0, 2, 2, 2,\n",
       "        1, 2, 2, 2, 2, 0, 2, 2, 1, 2], dtype=int64),\n",
       " array([2, 2, 2, 2, 2, 2, 2, 0, 2, 2, 2, 0, 0, 2, 2, 2, 0, 2, 2, 1, 2, 2,\n",
       "        2, 0, 2, 2, 2, 2, 2, 2, 0, 2], dtype=int64),\n",
       " array([0, 0, 2, 0, 0, 2, 1, 2, 2, 2, 0, 2, 2, 2, 0, 2, 2, 1, 2, 1, 0, 1,\n",
       "        2, 2, 2, 2, 2, 2, 2, 1, 2, 2], dtype=int64),\n",
       " array([2, 2, 2, 2, 0, 2, 0, 0, 0, 0, 0, 1, 0, 2, 0, 2, 2, 0, 0, 1, 0, 0,\n",
       "        0, 0, 0, 0, 0, 2, 0, 0, 1, 0], dtype=int64),\n",
       " array([2, 0, 2, 0, 0, 0, 0, 0, 2, 0, 2, 0, 0, 0, 0, 0, 0, 0, 0, 0, 0, 0,\n",
       "        0, 0, 2, 0, 0, 0, 0, 0, 1, 2], dtype=int64),\n",
       " array([0, 0, 0, 0, 2, 0, 0, 0, 0, 0, 1, 0, 0, 0, 2, 0, 0, 0, 0, 0, 0, 0,\n",
       "        0, 0, 0, 0, 1, 0, 0, 0, 0, 2], dtype=int64),\n",
       " array([0, 0, 0, 1, 1, 0, 0, 0, 2, 1, 1, 1, 0, 0, 0, 2, 2, 0, 0, 0, 0, 0,\n",
       "        0, 0, 0, 0, 0, 0, 0, 0, 0, 0], dtype=int64),\n",
       " array([0, 2, 0, 0, 0, 0, 0, 0, 0, 0, 0, 0, 0, 0, 0, 0, 0, 1, 2, 2, 0, 0,\n",
       "        0, 0, 0, 0, 0, 0, 0, 0, 0, 0], dtype=int64),\n",
       " array([0, 2, 0, 0, 0, 0, 0, 0, 0, 0, 2, 2, 0, 0, 0, 0, 0, 0, 0, 0, 2, 2,\n",
       "        0, 2, 0, 0, 0, 0, 0, 0, 1, 0], dtype=int64),\n",
       " array([0, 0, 0, 2, 0, 0, 0, 0, 0, 2, 1, 0, 0, 1, 0, 1, 1, 2, 0, 1, 0, 0,\n",
       "        0, 0, 0, 1, 0, 0, 0, 0, 0, 2], dtype=int64),\n",
       " array([2, 0, 2, 0, 2, 0, 0, 0, 2, 0, 1, 0, 0, 0, 0, 0, 0, 0, 1, 0, 0, 0,\n",
       "        0, 2, 2, 0, 0, 0, 1, 0, 0, 0], dtype=int64),\n",
       " array([0, 2, 0, 0, 1, 0, 0, 1, 0, 0, 0, 2, 0, 0, 1, 0, 2, 0, 0, 0, 0, 0,\n",
       "        0, 0, 1, 0, 0, 0, 0, 1, 0, 0], dtype=int64),\n",
       " array([0, 0, 0, 0, 1, 2, 0, 0, 0, 0, 0, 0, 0, 2, 0, 0, 0, 0, 0, 0, 0, 0,\n",
       "        0, 0, 0, 0, 0, 2, 0, 2, 0, 0], dtype=int64),\n",
       " array([2, 0, 2, 0, 0, 0, 0, 2, 1, 0, 0, 1, 0, 2, 0, 0, 0, 0, 1, 2, 0, 0,\n",
       "        2, 0, 0, 0, 0, 2, 0, 0, 2, 1], dtype=int64),\n",
       " array([1, 2, 0, 0, 0, 0, 2, 2, 2, 2, 0, 0, 0, 0, 0, 1, 0, 2, 0, 0, 0, 1,\n",
       "        2, 0, 0, 2, 1, 0, 0, 0, 2, 0], dtype=int64),\n",
       " array([2, 2, 1, 0, 1, 2, 1, 2, 0, 2, 0, 0, 0, 2, 2, 0, 0, 2, 0, 0, 1, 0,\n",
       "        0, 2, 2, 0, 2, 2, 2, 0, 2, 2], dtype=int64),\n",
       " array([0, 0, 0, 2, 2, 2, 0, 2, 2, 0, 2, 2, 2, 0, 1, 2, 0, 0, 2, 1, 0, 0,\n",
       "        2, 2, 0, 2, 2, 0, 0, 0, 0, 0], dtype=int64),\n",
       " array([0, 2, 2, 0, 1, 0, 1, 0, 2, 0, 0, 0, 0, 2, 2, 0, 2, 0, 2, 0, 0, 0,\n",
       "        2, 2, 2, 2, 0, 1, 2, 2, 2, 2], dtype=int64),\n",
       " array([0, 2, 0, 2, 2, 0, 2, 0, 0, 0, 0, 2, 0, 1, 0, 0, 2, 0, 0, 2, 0, 2,\n",
       "        0, 0, 2, 2, 0, 2, 2, 2, 2, 2], dtype=int64),\n",
       " array([0, 0, 0, 0, 0, 2, 2, 0, 0, 2, 2, 0, 1, 2, 1, 2, 0, 0, 0, 0, 1, 0,\n",
       "        0, 0, 0, 0, 0, 0, 2, 0, 0, 1], dtype=int64),\n",
       " array([0, 0, 2, 2, 0, 0, 2, 0, 0, 0, 0, 0, 2, 2, 2, 0, 2, 0, 0, 0, 2, 2,\n",
       "        0, 2, 2, 0, 2, 0, 0, 0, 2, 0], dtype=int64),\n",
       " array([0, 0, 0, 2, 1, 2, 0, 0, 2, 0, 1, 2, 0, 2, 2, 0, 0, 0, 2, 0, 2, 0,\n",
       "        2, 0, 0, 0, 2, 2, 2, 0, 0, 0], dtype=int64),\n",
       " array([0, 2, 0, 0, 0, 0, 0, 2, 0, 0, 0, 2, 0, 2, 0, 2, 1, 0, 0, 0, 0, 2,\n",
       "        0, 2, 2, 1, 0, 0, 2, 1, 0, 0], dtype=int64),\n",
       " array([2, 2, 2, 0, 2, 0, 0, 0, 1, 0, 0, 0, 2, 2, 2, 2, 0, 2, 0, 2, 2, 2,\n",
       "        0, 0, 2, 2, 0, 1, 1, 2, 2, 2], dtype=int64),\n",
       " array([2, 2, 2, 2, 2, 0, 2, 2, 2, 0, 0, 2, 2, 2, 0, 0, 0, 2, 2, 2, 0, 2,\n",
       "        1, 0, 2, 2, 2, 1, 0, 0, 0, 0], dtype=int64),\n",
       " array([0, 2, 2, 2, 2, 2, 2, 0, 1, 0, 1, 0, 2, 2, 0, 2, 1, 2, 0, 2, 0, 2,\n",
       "        2, 0, 0, 0, 0, 1, 2, 2, 2, 1], dtype=int64),\n",
       " array([0, 2, 0, 2, 2, 2, 2, 2, 2, 0, 2, 2, 2, 2, 0, 2, 2, 0, 0, 0, 0, 2,\n",
       "        2, 2, 0, 0, 0, 2, 2, 2, 1, 2], dtype=int64),\n",
       " array([2, 0, 2, 0, 1, 2, 0, 0, 2, 2, 2, 2, 2, 1, 2, 0, 2, 2, 2, 0, 2, 2,\n",
       "        0, 2, 0, 2, 0, 2, 2, 0, 0, 2], dtype=int64),\n",
       " array([0, 2, 2, 0, 0, 2, 0, 2, 0, 2, 2, 2, 2, 2, 0, 0, 0, 0, 2, 0, 2, 0,\n",
       "        0, 0, 0, 0, 2, 0, 0, 2, 2, 2], dtype=int64),\n",
       " array([2, 2, 0, 0, 2, 0, 1, 2, 2, 2, 2, 0, 2, 2, 2, 1, 0, 0, 1, 2, 1, 0,\n",
       "        2, 2, 1, 1, 0, 0, 2, 2, 2, 2], dtype=int64),\n",
       " array([2, 2, 2, 2, 2, 2, 1, 2, 2, 2, 1, 2, 2, 2, 2, 2, 0, 1, 0, 2, 0, 0,\n",
       "        0, 0, 2, 0, 2, 2, 2, 2, 2, 0], dtype=int64),\n",
       " array([2, 2, 2, 2, 2, 1, 0, 1, 0, 0, 2, 0, 1, 2, 2, 2, 2, 0, 0, 2, 2, 0,\n",
       "        0, 0, 0, 2, 2, 2, 0, 0, 0, 2], dtype=int64),\n",
       " array([0, 0, 2, 0, 2, 2, 2, 0, 0, 1, 2, 2, 2, 0, 0, 0, 0, 2, 2, 2, 2, 1,\n",
       "        1, 0, 2, 0, 2, 0, 0, 0, 0, 2], dtype=int64),\n",
       " array([0, 1, 2, 0, 2, 0, 2, 1, 1, 2, 1, 2, 2, 2, 0, 2, 2, 2, 2, 2, 2, 2,\n",
       "        2, 2, 2, 1, 0, 2, 2, 2, 2, 2], dtype=int64),\n",
       " array([0, 2, 1, 2, 2, 2, 2, 0, 2, 2, 0, 0, 0, 2, 0, 1, 0, 2, 1, 0, 2, 1,\n",
       "        2, 2, 0, 0, 1, 1, 1, 0, 1, 0], dtype=int64),\n",
       " array([0, 0, 2, 1, 0, 0, 1, 0, 0, 0, 1, 0, 2, 2, 2, 0, 0, 2, 0, 0, 0, 2,\n",
       "        0, 1, 0, 2, 0, 2, 2, 0, 0, 0], dtype=int64),\n",
       " array([0, 0, 1, 0, 1, 0, 1, 0, 1, 2, 0, 0, 0, 2, 0, 0, 0, 1, 0, 0, 0, 0,\n",
       "        0, 2, 0, 0, 1, 0, 2, 0, 1, 0], dtype=int64),\n",
       " array([0, 0, 0, 2, 2, 0, 2, 0, 0, 1, 0, 0, 0, 0, 2, 2, 0, 2, 2, 0, 0, 1,\n",
       "        0, 0, 0, 2, 2, 2, 2, 0, 2, 0], dtype=int64),\n",
       " array([1, 1, 0, 0, 0, 0, 0, 0, 0, 0, 1, 0, 0, 2, 2, 2, 2, 0, 2, 0, 0, 0,\n",
       "        0, 0, 0, 2, 0, 2, 0, 2, 0, 2], dtype=int64),\n",
       " array([1, 0, 2, 0, 2, 0, 2, 2, 0, 0, 0, 0, 1, 0, 0, 1, 1, 0, 1, 0, 0, 2,\n",
       "        0, 2, 2, 0, 0, 0, 0, 0, 2, 0], dtype=int64),\n",
       " array([0, 0, 0, 2, 0, 0, 2, 0, 0, 2, 0, 0, 0, 0, 0, 0, 0, 0, 0, 0, 0, 0,\n",
       "        0, 0, 2, 0, 2, 0, 2, 2, 0, 0], dtype=int64),\n",
       " array([0, 0, 2, 0, 2, 2, 0, 0, 0, 0, 2, 0, 2, 0, 2, 0, 2, 2, 2, 0, 2, 2,\n",
       "        0, 0, 0, 2, 2, 2, 2, 0, 0, 0], dtype=int64),\n",
       " array([1, 2, 1, 0, 0, 2, 0, 2, 2, 2, 0, 2, 0, 2, 0, 2, 0, 1, 1, 0, 2, 2,\n",
       "        2, 0, 0, 0, 0, 2, 2, 2, 0, 2], dtype=int64),\n",
       " array([2, 2, 2, 2, 2, 2, 2, 0, 2, 0, 0, 2, 2, 2, 0, 0, 0, 0, 1, 2, 2, 1,\n",
       "        2, 2, 0, 0, 0, 0, 2, 0, 0, 2], dtype=int64),\n",
       " array([2, 0, 0, 0, 2, 2, 2, 2, 0, 2, 1, 2, 2, 0, 2, 2, 2, 2, 2, 2, 2, 0,\n",
       "        2, 1, 2, 0, 2, 0, 0, 0, 2, 0], dtype=int64),\n",
       " array([0, 0, 2, 0, 1, 0, 2, 2, 0, 1, 0, 0, 0, 0, 0, 0, 2, 0, 1, 1, 0, 0,\n",
       "        0, 0, 1, 0, 0, 0, 0, 2, 0, 0], dtype=int64),\n",
       " array([0, 0, 0, 0, 0, 0, 0, 0, 0, 0, 0, 0, 0, 0, 0, 0, 0, 0, 0, 1, 0, 0,\n",
       "        0, 0, 1, 0, 0, 0, 0, 0, 0, 2], dtype=int64),\n",
       " array([0, 0, 1, 0, 0, 0, 0, 0, 0, 0, 0, 2, 0, 0, 0, 0, 0, 0, 0, 0, 0, 0,\n",
       "        0, 0, 0, 1, 0, 0, 0, 0, 0, 0], dtype=int64),\n",
       " array([1, 0, 0, 0, 0, 0, 1, 0, 0, 0, 0, 0, 0, 0, 0, 1, 0, 0, 0, 0, 1, 0,\n",
       "        0, 0, 0, 0, 0, 0, 0, 1, 2, 0], dtype=int64),\n",
       " array([0, 0, 2, 0, 0, 0, 0, 0, 0, 2, 0, 2, 0, 0, 0, 0, 0, 0, 0, 2, 0, 0,\n",
       "        0, 2, 1, 0, 0, 0, 0, 0, 0, 0], dtype=int64),\n",
       " array([0, 0, 0, 0, 0, 0, 0, 0, 0, 0, 0, 0, 0, 0, 0, 0, 2, 0, 0, 0, 0, 0,\n",
       "        1, 0, 0, 0, 0, 0, 0, 0, 0, 0], dtype=int64),\n",
       " array([0, 0, 0, 1, 0, 0, 0, 0, 0, 0, 0, 0, 0, 0, 0, 0, 0, 0, 0, 0, 0, 0,\n",
       "        0, 1, 0, 0, 0, 0, 0, 0, 0, 0], dtype=int64),\n",
       " array([0, 0, 2, 0, 0, 0, 2, 0, 0, 0, 0, 0, 1, 0, 0, 2, 0, 0, 0, 0, 1, 0,\n",
       "        0, 0, 0, 0, 0, 1, 0, 0, 1, 0], dtype=int64),\n",
       " array([0, 0, 0, 0, 0, 1, 0, 2, 0, 0, 2, 2, 2, 0, 0, 0, 0, 0, 0, 0, 0, 0,\n",
       "        0, 1, 0, 0, 0, 0, 2, 0, 0, 0], dtype=int64),\n",
       " array([0, 0, 0, 0, 0, 1, 0, 0, 0, 0, 0, 0, 0, 0, 0, 2, 0, 0, 0, 0, 0, 0,\n",
       "        0, 1, 0, 0, 0, 0, 0, 0, 0, 0], dtype=int64),\n",
       " array([2, 0, 0, 2, 2, 0, 2, 0, 2, 2, 0, 2, 2, 0, 1, 2, 2, 2, 0, 2, 0, 0,\n",
       "        0, 2, 2, 2, 2, 1, 0, 0, 2, 0], dtype=int64),\n",
       " array([2, 2, 0, 0, 0, 0, 0, 2, 0, 0, 0, 1, 0, 2, 0, 2, 2, 0, 2, 0, 2, 2,\n",
       "        0, 2, 0, 0, 0, 2, 2, 0, 2, 2], dtype=int64),\n",
       " array([0, 2, 0, 2, 2, 0, 2, 2, 0, 2, 0, 0, 2, 2, 2, 2, 0, 0, 1, 2, 2, 0,\n",
       "        2, 0, 0, 0, 0, 0, 0, 0, 1, 0], dtype=int64),\n",
       " array([0, 0, 0, 0, 0, 0, 2, 0, 2, 2, 2, 2, 1, 0, 2, 2, 2, 2, 0, 0, 0, 2,\n",
       "        2, 0, 0, 2, 2, 0, 1, 0, 0, 2], dtype=int64),\n",
       " array([0, 2, 0, 1, 2, 0, 0, 2, 2, 2, 2, 2, 0, 0, 0, 0, 0, 2, 2, 0, 2, 2,\n",
       "        0, 2, 0, 2, 2, 0, 0, 0, 2, 2], dtype=int64),\n",
       " array([0, 2, 2, 0, 0, 0, 2, 0, 0, 0, 0, 2, 2, 0, 0, 0, 0, 2, 0, 0, 2, 2,\n",
       "        1, 0, 1, 0, 0, 1, 0, 1, 0, 0], dtype=int64),\n",
       " array([0, 0, 0, 0, 2, 0, 2, 0, 0, 2, 0, 2, 2, 0, 0, 2, 0, 0, 1, 0, 0, 0,\n",
       "        0, 0, 2, 0, 1, 0, 0, 2, 0, 0], dtype=int64),\n",
       " array([0, 0, 0, 0, 2, 2, 1, 2, 0, 0, 0, 0, 0, 2, 1, 0, 0, 0, 0, 0, 0, 2,\n",
       "        0, 0, 0, 2, 2, 0, 0, 0, 0, 1], dtype=int64),\n",
       " array([0, 2, 0, 0, 2, 2, 0, 0, 0, 0, 0, 0, 1, 0, 2, 1, 0, 0, 0, 0, 0, 0,\n",
       "        1, 0, 0, 0, 0, 0, 0, 2, 0, 0], dtype=int64),\n",
       " array([0, 2, 2, 0, 0, 0, 0, 1, 2, 0, 0, 0, 0, 0, 2, 1, 0, 2, 1, 0, 0, 2,\n",
       "        0, 0, 2, 0, 0, 0, 0, 2, 2, 0], dtype=int64),\n",
       " array([2, 2, 2, 2, 0, 0, 0, 0, 0, 2, 2, 0, 0, 0, 2, 0, 2, 0, 0, 0, 0, 0,\n",
       "        0, 2, 0, 0, 2, 2, 0, 0, 0, 0], dtype=int64),\n",
       " array([0, 0, 2, 2, 0, 0, 0, 2, 2, 0, 2, 0, 2, 0, 0, 1, 0, 0, 1, 2, 0, 0,\n",
       "        0, 2, 0, 0, 0, 0, 0, 0, 0, 2], dtype=int64),\n",
       " array([0, 0, 0, 2, 0, 2, 2, 2, 2, 2, 2, 2, 2, 0, 0, 0, 0, 2, 0, 1, 0, 0,\n",
       "        0, 2, 2, 0, 0, 2, 1, 0, 0, 0], dtype=int64),\n",
       " array([0, 2, 0, 0, 0, 0, 0, 0, 2, 0, 0, 0, 2, 0, 0, 0, 2, 0, 2, 0, 0, 0,\n",
       "        2, 0, 0, 0, 0, 0, 0, 1, 0, 0], dtype=int64),\n",
       " array([0, 2, 0, 0, 0, 0, 0, 2, 0, 2, 2, 0, 0, 2, 0, 0, 2, 1, 2, 2, 2, 0,\n",
       "        2, 0, 0, 0, 0, 1, 0, 1, 0, 0], dtype=int64),\n",
       " array([0, 0, 0, 2, 0, 0, 0, 0, 0, 0, 0, 0, 0, 2, 0, 0, 0, 0, 1, 2, 1, 2,\n",
       "        0, 1, 2, 2, 0, 1, 0, 2, 2, 2], dtype=int64),\n",
       " array([2, 0, 2, 2, 2, 0, 2, 0, 2, 1, 2, 0, 0, 2, 2, 2, 2, 2, 2, 0, 2, 2,\n",
       "        2, 0, 2, 0, 2, 2, 0, 2, 1, 2], dtype=int64),\n",
       " array([2, 0, 0, 2, 2, 2, 0, 0, 2, 1, 2, 0, 0, 0, 0, 0, 0, 0, 0, 0, 0, 0,\n",
       "        0, 0, 0, 0, 2, 2, 0, 0, 0, 0], dtype=int64),\n",
       " array([1, 0, 1, 2, 1, 2, 2, 2, 2, 2, 0, 2, 0, 2, 2, 0, 0, 2, 0, 1, 2, 2,\n",
       "        2, 2, 2, 2, 2, 2, 1, 2, 0, 2], dtype=int64),\n",
       " array([2, 2, 0, 2, 2, 2, 2, 0, 2, 0, 0, 1, 0, 0, 0, 0, 0, 2, 1, 2, 2, 0,\n",
       "        0, 2, 2, 2, 2, 0, 2, 0, 0, 2], dtype=int64),\n",
       " array([1, 2, 2, 2, 0, 0, 0, 0, 0, 0, 0, 0, 2, 0, 0, 0, 2, 2, 0, 2, 2, 2,\n",
       "        2, 0, 0, 0, 0, 2, 2, 2, 0, 2], dtype=int64),\n",
       " array([2, 2, 2, 2, 0, 2, 0, 0, 0, 2, 2, 0, 2, 2, 2, 2, 2, 0, 0, 0, 2, 0,\n",
       "        0, 0, 2, 0, 0, 0, 2, 0, 2, 0], dtype=int64),\n",
       " array([0, 2, 2, 2, 0, 0, 2, 0, 0, 1, 2, 0, 0, 0, 0, 2, 0, 0, 0, 2, 2, 0,\n",
       "        2, 0, 2, 0, 0, 2, 2, 0, 0, 0], dtype=int64),\n",
       " array([1, 1, 2, 0, 0, 0, 2, 0, 2, 2, 2, 0, 2, 2, 0, 2, 0, 2, 0, 0, 0, 0,\n",
       "        0, 2, 0, 2, 2, 0, 0, 0, 0, 2], dtype=int64),\n",
       " array([1, 0, 2, 2, 2, 2, 1, 0, 0, 0, 0, 2, 0, 2, 0, 0, 2, 2, 0, 0, 0, 0,\n",
       "        1, 0, 0, 1, 0, 2, 0, 1, 2, 0], dtype=int64),\n",
       " array([2, 0, 2, 0, 2, 2, 2, 2, 2, 2, 2, 2, 2, 2, 2, 2, 2, 2, 2, 2, 2, 2,\n",
       "        2, 2, 2, 0, 0, 2, 0, 1, 0, 0], dtype=int64),\n",
       " array([0, 2, 0, 2, 0, 0, 0, 0, 0, 0, 0, 0, 0, 2, 0, 0, 1, 0, 1, 2, 0, 0,\n",
       "        1, 0, 0, 0, 0, 0, 2, 2, 0, 0], dtype=int64),\n",
       " array([2, 2, 1, 0, 0, 0, 0, 0, 2, 1, 0, 0, 0, 0, 0, 0, 1, 2, 0, 0, 0, 0,\n",
       "        0, 0, 0, 1, 2, 0, 2, 0, 0, 0], dtype=int64),\n",
       " array([0, 0, 0, 0, 0, 0, 0, 0, 0, 0, 0, 0, 0, 0, 0, 0, 0, 0, 0, 0, 0, 0,\n",
       "        0, 0, 0, 0, 0, 0, 0, 0, 2, 0], dtype=int64),\n",
       " array([0, 0, 0, 0, 0, 1, 0, 0, 0, 0, 0, 0, 0, 0, 0, 0, 0, 0, 0, 0, 0, 0,\n",
       "        0, 0, 0, 2, 0, 0, 1, 0, 0, 0], dtype=int64),\n",
       " array([2, 2, 0, 0, 0, 0, 0, 1, 0, 0, 0, 0, 1, 0, 0, 0, 0, 0, 0, 0, 0, 0,\n",
       "        0, 0, 0, 0, 0, 0, 2, 1, 0, 0], dtype=int64),\n",
       " array([0, 0, 2, 0, 0, 0, 0, 0, 0, 0, 2, 0, 0, 0, 0, 0, 0, 0, 0, 2, 0, 0,\n",
       "        0, 0, 0, 0, 0, 0, 0, 0, 0, 0], dtype=int64),\n",
       " array([0, 0, 0, 0, 0, 1, 0, 0, 0, 2, 0, 2, 0, 2, 0, 0, 2, 0, 0, 0, 0, 0,\n",
       "        0, 0, 0, 0, 0, 2, 2, 0, 0, 0], dtype=int64),\n",
       " array([2, 0, 0, 0, 0, 0, 0, 1, 0, 1, 2, 0, 0, 0, 0, 0, 0, 0, 2, 0, 2, 0,\n",
       "        0, 0, 0, 0, 0, 0, 2, 0, 0, 2], dtype=int64),\n",
       " array([0, 0, 0, 0, 0, 0, 0, 0, 0, 0, 0, 0, 0, 2, 0, 0, 0, 1, 0, 0, 0, 1,\n",
       "        0, 0, 0, 0, 2, 0, 0, 0, 2, 0], dtype=int64),\n",
       " array([0, 0, 0, 0, 0, 1, 0, 0, 0, 0, 0, 0, 0, 0, 0, 0, 0, 0, 2, 0, 0, 0,\n",
       "        1, 2, 0, 0, 2, 2, 1, 0, 0, 0], dtype=int64),\n",
       " array([0, 0, 0, 2, 0, 2, 1, 0, 0, 0, 0, 0, 0, 0, 0, 0, 0, 0, 0, 0, 0, 0,\n",
       "        0, 1, 2, 0, 0, 2, 0, 0, 2, 0], dtype=int64),\n",
       " array([0, 0, 0, 0, 0, 0, 2, 0, 0, 0, 0, 2, 0, 0, 2, 1, 1, 0, 0, 0, 0, 0,\n",
       "        0, 0, 2, 0, 2, 0, 0, 0, 2, 0], dtype=int64),\n",
       " array([0, 0, 2, 2, 0, 2, 2, 0, 2, 2, 0, 2, 2, 2, 2, 2, 0, 0, 2, 2, 0, 2,\n",
       "        2, 2, 2, 2, 0, 0, 0, 0, 2, 1], dtype=int64),\n",
       " array([0, 2, 1, 2, 2, 2, 0, 2, 0, 0, 2, 0, 2, 0, 0, 0, 0, 2, 0, 1, 0, 2,\n",
       "        0, 0, 0, 0, 2, 0, 2, 2, 0, 0], dtype=int64),\n",
       " array([0, 0, 0, 2, 2, 2, 2, 2, 0, 0, 2, 0, 0, 2, 0, 0, 0, 0, 2, 0, 0, 1,\n",
       "        0, 2, 0, 2, 1, 1, 2, 1, 2, 2], dtype=int64),\n",
       " array([0, 1, 2, 2, 2, 0, 2, 2, 0, 0, 2, 2, 2, 2, 2, 2, 2, 0, 2, 0, 2, 2,\n",
       "        0, 2, 0, 2, 0, 2, 2, 2, 2, 2], dtype=int64),\n",
       " array([0, 0, 2, 2, 2, 2, 2, 0, 2, 2, 0, 0, 0, 2, 0, 2, 2, 2, 0, 2, 2, 0,\n",
       "        2, 2, 1, 2, 2, 0, 0, 0, 2, 2], dtype=int64),\n",
       " array([2, 0, 0, 2, 2, 2, 0, 0, 2, 2, 2, 2, 2, 0, 2, 0, 1, 0, 2, 2, 2, 0,\n",
       "        0, 2, 2, 0, 2, 2, 2, 2, 2, 2], dtype=int64),\n",
       " array([1, 2, 2, 2, 0, 2, 2, 2, 2, 2, 2, 2, 2, 0, 0, 2, 2, 0, 2, 0, 2, 2,\n",
       "        1, 2, 2, 0, 1, 2, 0, 1, 2, 2], dtype=int64),\n",
       " array([2, 0, 2, 2, 0, 0, 0, 0, 0, 2, 0, 2, 2, 0, 1, 2, 0, 2, 0, 0, 2, 0,\n",
       "        2, 2, 2, 2, 2, 2, 2, 0, 2, 2], dtype=int64),\n",
       " array([0, 2, 2, 2, 2, 2, 0, 0, 0, 0, 2, 2, 2, 2, 2, 2, 2, 2, 2, 0, 2, 0,\n",
       "        2, 2, 2, 0, 2, 2, 2, 0, 2, 0], dtype=int64),\n",
       " array([2, 2, 2, 0, 0, 2, 2, 2, 1, 2, 2, 2, 2, 2, 2, 2, 0, 2, 2, 0, 0, 2,\n",
       "        2, 0, 0, 0, 0, 0, 2, 0, 0, 0], dtype=int64),\n",
       " array([0, 0, 0, 0, 2, 2, 2, 0, 2, 0, 2, 2, 0, 2, 2, 2, 2, 0, 0, 2, 0, 0,\n",
       "        0, 0, 2, 0, 0, 0, 0, 0, 1, 0], dtype=int64),\n",
       " array([0, 0, 0, 0, 2, 0, 0, 2, 2, 2, 0, 1, 0, 2, 0, 2, 0, 1, 0, 2, 2, 0,\n",
       "        0, 2, 2, 0, 0, 2, 2, 0, 0, 2], dtype=int64),\n",
       " array([0, 2, 2, 0, 0, 2, 2, 0, 2, 0, 0, 0, 2, 0, 0, 1, 0, 0, 1, 0, 1, 0,\n",
       "        2, 0, 0, 2, 0, 2, 0, 0, 2, 1], dtype=int64),\n",
       " array([0, 0, 0, 0, 2, 0, 0, 1, 0, 2, 2, 0, 1, 0, 0, 0, 0, 0, 0, 1, 2, 0,\n",
       "        0, 0, 0, 0, 1, 0, 0, 2, 0, 0], dtype=int64),\n",
       " array([0, 0, 0, 0, 0, 0, 0, 1, 1, 0, 2, 0, 0, 2, 0, 0, 0, 0, 0, 0, 0, 0,\n",
       "        0, 0, 0, 0, 0, 2, 0, 0, 0, 0], dtype=int64),\n",
       " array([0, 0, 0, 0, 0, 0, 0, 0, 1, 0, 0, 0, 0, 1, 0, 1, 0, 0, 2, 0, 0, 0,\n",
       "        2, 0, 0, 0, 1, 0, 0, 0, 0, 0], dtype=int64),\n",
       " array([2, 0, 0, 0, 0, 0, 1, 0, 0, 0, 0, 0, 0, 0, 0, 0, 0, 0, 0, 0, 0, 0,\n",
       "        0, 0, 2, 0, 0, 0, 0, 0, 0, 1], dtype=int64),\n",
       " array([0, 0, 0, 2, 1, 1, 1, 0, 0, 0, 0, 0, 0, 0, 2, 0, 2, 0, 2, 0, 0, 2,\n",
       "        2, 2, 2, 2, 2, 1, 0, 0, 0, 0], dtype=int64),\n",
       " array([0, 1, 2, 0, 1, 0, 0, 0, 0, 0, 0, 0, 0, 0, 0, 0, 0, 0, 0, 2, 0, 0,\n",
       "        1, 0, 0, 0, 0, 2, 0, 0, 0, 0], dtype=int64),\n",
       " array([0, 2, 0, 0, 0, 0, 0, 0, 0, 0, 0, 2, 0, 0, 0, 0, 0, 0, 0, 1, 0, 2,\n",
       "        2, 1, 0, 2, 1, 2, 2, 2, 2, 0], dtype=int64),\n",
       " array([0, 0, 0, 2, 0, 1, 0, 0, 2, 2, 0, 2, 2, 0, 2, 2, 2, 0, 0, 0, 0, 1,\n",
       "        0, 0, 0, 0, 0, 0, 2, 2, 0, 0], dtype=int64),\n",
       " array([0, 0, 0, 0, 0, 2, 0, 0, 0, 0, 2, 0, 2, 0, 0, 2, 0, 2, 0, 0, 0, 0,\n",
       "        0, 0, 0, 0, 1, 0, 0, 0, 0, 0], dtype=int64),\n",
       " array([0, 0, 0, 0, 0, 2, 0, 2, 0, 0, 0, 0, 0, 2, 0, 0, 2, 0, 0, 0, 0, 0,\n",
       "        1, 0, 2, 2, 1, 2, 2, 0, 0, 0], dtype=int64),\n",
       " array([0, 2, 0, 2, 2, 2, 0, 0, 0, 0, 0, 0, 2, 2, 2, 0, 2, 2, 0, 0, 0, 0,\n",
       "        2, 2, 2, 0, 0, 2, 0, 1, 2, 0], dtype=int64),\n",
       " array([2, 2, 2, 0, 2, 2, 2, 1, 1, 2, 2, 2, 2, 2, 2, 2, 0, 2, 0, 2, 2, 2,\n",
       "        1, 2, 2, 2, 0, 0, 2, 2, 2, 0], dtype=int64),\n",
       " array([2, 2, 2, 2, 2, 2, 2, 2, 2, 2, 0, 2, 2, 2, 2, 2, 2, 2, 2, 0, 2, 2,\n",
       "        2, 2, 2, 2, 2, 2, 2, 2, 2, 2], dtype=int64),\n",
       " array([2, 2, 2, 2, 2, 2, 2, 2, 2, 2, 2, 2, 2, 2, 0, 2, 0, 2, 0, 0, 2, 0,\n",
       "        2, 0, 0, 0, 0, 0, 0, 0, 0, 0], dtype=int64),\n",
       " array([0, 0, 2, 2, 0, 0, 0, 2, 1, 0, 1, 2, 2, 0, 0, 0, 2, 0, 0, 1, 0, 0,\n",
       "        0, 0, 0, 0, 2, 0, 2, 0, 0, 0], dtype=int64),\n",
       " array([0, 0, 0, 0, 2, 0, 0, 0, 0, 0, 0, 0, 0, 0, 2, 2, 0, 0, 0, 0, 0, 2,\n",
       "        0, 0, 0, 0, 2, 0, 0, 0, 0, 0], dtype=int64),\n",
       " array([0, 0, 0, 1, 0, 0, 0, 0, 0, 0, 0, 0, 1, 0, 0, 0, 0, 0, 0, 0, 0, 0,\n",
       "        0, 0, 0, 0, 0, 0, 0, 0, 0, 0], dtype=int64),\n",
       " array([0, 0, 0, 0, 0, 0, 2, 2, 0, 0, 0, 0, 0, 0, 0, 0, 0, 0, 0, 0, 0, 1,\n",
       "        0, 0, 0, 0, 0, 0, 0, 0, 0, 1], dtype=int64),\n",
       " array([0, 0, 0, 0, 0, 0, 1, 0, 0, 0, 0, 0, 0, 0, 0, 0, 0, 2, 1, 0, 0, 0,\n",
       "        1, 0, 1, 0, 0, 0, 0, 0, 1, 0], dtype=int64),\n",
       " array([0, 0, 0, 0, 0, 1, 0, 0, 0, 0, 1, 0, 0, 0, 0, 0, 0, 0, 0, 0, 0, 0,\n",
       "        0, 0, 0, 0, 0, 0, 0, 0, 0, 0], dtype=int64),\n",
       " array([1, 0, 0, 0, 0, 0, 0, 0, 0, 0, 0, 0, 0, 0, 2, 0, 0, 0, 0, 0, 0, 0,\n",
       "        0, 0, 0, 0, 0, 0, 0, 2, 0, 0], dtype=int64),\n",
       " array([0, 0, 0, 0, 0, 0, 2, 0, 0, 0, 2, 0, 0, 0, 0, 0, 0, 2, 0, 0, 0, 1,\n",
       "        0, 1, 0, 2, 0, 0, 0, 0, 1, 0], dtype=int64),\n",
       " array([0, 0, 0, 0, 0, 0, 0, 0, 0, 0, 0, 0, 0, 0, 0, 0, 2, 0, 0, 0, 0, 1,\n",
       "        0, 0, 0, 1, 0, 0, 2, 0, 0, 0], dtype=int64),\n",
       " array([0, 0, 2, 0, 1, 0, 0, 0, 0, 0, 0, 0, 0, 0, 1, 0, 0, 0, 0, 0, 0, 0,\n",
       "        2, 0, 0, 0, 0, 0, 0, 0, 0, 0], dtype=int64),\n",
       " array([0, 0, 1, 0, 0, 0, 1, 0, 0, 0, 0, 0, 0, 0, 1, 0, 2, 0, 0, 0, 0, 0,\n",
       "        0, 0, 2, 0, 1, 0, 0, 0, 0, 0], dtype=int64),\n",
       " array([0, 0, 0, 0, 0, 0, 0, 0, 0, 0, 0, 0, 0, 2, 0, 0, 0, 1, 0, 0, 0, 2,\n",
       "        0, 0, 0, 0, 2, 0, 0, 2, 0, 0], dtype=int64),\n",
       " array([1, 2, 1, 2, 0, 0, 0, 0, 0, 0, 0, 0, 0, 0, 1, 0, 0, 0, 0, 2, 0, 0,\n",
       "        0, 2, 0, 0, 0, 1, 1, 0, 1, 2], dtype=int64),\n",
       " array([2, 0, 0, 2, 0, 0, 2, 0, 2, 0, 2, 0, 2, 0, 0, 1, 0, 0, 0, 0, 0, 0,\n",
       "        0, 0, 1, 0, 2, 0, 0, 2, 2, 0], dtype=int64),\n",
       " array([2, 0, 0, 2, 2, 2, 0, 0], dtype=int64)]"
      ]
     },
     "execution_count": 81,
     "metadata": {},
     "output_type": "execute_result"
    }
   ],
   "source": [
    "true_vals"
   ]
  },
  {
   "cell_type": "code",
   "execution_count": 78,
   "metadata": {},
   "outputs": [
    {
     "data": {
      "text/plain": [
       "[]"
      ]
     },
     "execution_count": 78,
     "metadata": {},
     "output_type": "execute_result"
    }
   ],
   "source": [
    "true_labels"
   ]
  },
  {
   "cell_type": "code",
   "execution_count": 88,
   "metadata": {},
   "outputs": [
    {
     "name": "stdout",
     "output_type": "stream",
     "text": [
      "Class: Neg\n",
      "Accuracy: 735/2983\n",
      "Class: Pos\n",
      "Accuracy: 29/393\n",
      "Class: Neu\n",
      "Accuracy: 1101/1624\n"
     ]
    }
   ],
   "source": [
    "print_acc_per_class(np.vstack(predictions), true_vals)"
   ]
  },
  {
   "cell_type": "code",
   "execution_count": 90,
   "metadata": {},
   "outputs": [
    {
     "name": "stdout",
     "output_type": "stream",
     "text": [
      "Calculating Matthews Corr. Coef. for each batch...\n"
     ]
    },
    {
     "name": "stderr",
     "output_type": "stream",
     "text": [
      "c:\\users\\lahir\\appdata\\local\\programs\\python\\python38\\lib\\site-packages\\sklearn\\metrics\\_classification.py:846: RuntimeWarning: invalid value encountered in double_scalars\n",
      "  mcc = cov_ytyp / np.sqrt(cov_ytyt * cov_ypyp)\n"
     ]
    }
   ],
   "source": [
    "from sklearn.metrics import matthews_corrcoef\n",
    "\n",
    "matthews_set = []\n",
    "\n",
    "# Evaluate each test batch using Matthew's correlation coefficient\n",
    "print('Calculating Matthews Corr. Coef. for each batch...')\n",
    "\n",
    "# For each input batch...\n",
    "for i in range(len(true_vals)):\n",
    "  \n",
    "  # The predictions for this batch are a 2-column ndarray (one column for \"0\" \n",
    "  # and one column for \"1\"). Pick the label with the highest value and turn this\n",
    "  # in to a list of 0s and 1s.\n",
    "  pred_labels_i = np.argmax(predictions[i], axis=1).flatten()\n",
    "  \n",
    "  # Calculate and store the coef for this batch.  \n",
    "  matthews = matthews_corrcoef(true_vals[i], pred_labels_i)                \n",
    "  matthews_set.append(matthews)"
   ]
  },
  {
   "cell_type": "code",
   "execution_count": 93,
   "metadata": {
    "scrolled": true
   },
   "outputs": [
    {
     "data": {
      "image/png": "[encoded data removed]",
      "text/plain": [
       "<Figure size 864x432 with 1 Axes>"
      ]
     },
     "metadata": {},
     "output_type": "display_data"
    }
   ],
   "source": [
    "# Create a barplot showing the MCC score for each batch of test samples.\n",
    "\n",
    "import seaborn as sns\n",
    "ax = sns.barplot(x=list(range(len(matthews_set))), y=matthews_set, ci=None)\n",
    "\n",
    "\n",
    "plt.tight_layout()\n",
    "plt.title('MCC Score per Batch')\n",
    "plt.ylabel('MCC Score (-1 to +1)')\n",
    "plt.xlabel('Batch #')\n",
    "\n",
    "ax.set_xticklabels(ax.get_xticklabels(), rotation=40, ha=\"right\")\n",
    "\n",
    "plt.show()"
   ]
  },
  {
   "cell_type": "code",
   "execution_count": 86,
   "metadata": {},
   "outputs": [
    {
     "name": "stdout",
     "output_type": "stream",
     "text": [
      "Total MCC: 0.001\n"
     ]
    }
   ],
   "source": [
    "# Combine the results across all batches. \n",
    "flat_predictions = np.concatenate(predictions, axis=0)\n",
    "\n",
    "# For each sample, pick the label (0 or 1) with the higher score.\n",
    "flat_predictions = np.argmax(flat_predictions, axis=1).flatten()\n",
    "\n",
    "# Combine the correct labels for each batch into a single list.\n",
    "flat_true_labels = np.concatenate(true_vals, axis=0)\n",
    "\n",
    "# Calculate the MCC\n",
    "mcc = matthews_corrcoef(flat_true_labels, flat_predictions)\n",
    "\n",
    "print('Total MCC: %.3f' % mcc)"
   ]
  },
  {
   "cell_type": "code",
   "execution_count": 38,
   "metadata": {},
   "outputs": [],
   "source": [
    "def evaluate(model, val_dl):\n",
    "    model.eval()\n",
    "    val_loss = 0\n",
    "    predictions, true_vals = [], []\n",
    "    for batch in tqdm(val_dl):\n",
    "        batch = tuple(b.to(device) for b in batch)\n",
    "        inputs = {\n",
    "            'input_ids': batch[0],\n",
    "            'attention_mask': batch[1],\n",
    "            'labels': batch[2]\n",
    "        }\n",
    "        with torch.no_grad():\n",
    "            outputs = model(**inputs)\n",
    "        loss = outputs[0]\n",
    "        logits = outputs[1]\n",
    "        val_loss += loss.item()\n",
    "\n",
    "        logits = logits.detach().cpu().numpy()\n",
    "        label_ids = inputs['labels'].cpu().numpy()\n",
    "        predictions.append(logits)\n",
    "        true_vals.append(label_ids)\n",
    "\n",
    "    val_loss_avg = val_loss/len(val_dl)\n",
    "    prediction = np.concatenate(predictions, axis=0)\n",
    "    true_vals = np.concatenate(true_vals, axis=0)\n",
    "    return val_loss_avg, predictions, true_vals"
   ]
  },
  {
   "cell_type": "code",
   "execution_count": 39,
   "metadata": {},
   "outputs": [],
   "source": [
    "!mkdir Models"
   ]
  },
  {
   "cell_type": "code",
   "execution_count": 43,
   "metadata": {},
   "outputs": [],
   "source": [
    "def fit(model, epochs, train_dl, val_dl, optimizer):\n",
    "    for epoch in range(epochs):\n",
    "        model.train()\n",
    "        training_loss = 0\n",
    "        tqdm_progress = tqdm(\n",
    "            train_dl,\n",
    "            desc=f'Epoch {epoch+1}',\n",
    "            leave=False,\n",
    "            disable=False\n",
    "            )\n",
    "        for batch in tqdm_progress:\n",
    "            model.zero_grad()\n",
    "            batch = tuple(b.to(device) for b in batch)\n",
    "            inputs = {\n",
    "                'input_ids' : batch[0],\n",
    "                'attention_mask' : batch[1],\n",
    "                'labels' : batch[2]\n",
    "            }\n",
    "            outputs = model(**inputs)\n",
    "            loss = outputs[0]\n",
    "            training_loss += loss.item()\n",
    "            loss.backward()\n",
    "\n",
    "            torch.nn.utils.clip_grad_norm_(model.parameters(), 1.0)\n",
    "            optimizer.step()\n",
    "            scheduler.step()\n",
    "\n",
    "            tqdm_progress.set_postfix({'training_loss': f'{loss.item()/len(batch):.3f}'})\n",
    "        \n",
    "        torch.save(model.state_dict(), f'Models/BERT_ft_epoch{epoch}.model')\n",
    "        tqdm.write(f'Epoch {epoch}')\n",
    "        training_loss_avg = training_loss/len(train_dl)\n",
    "        tqdm.write(f'Training Loss: {training_loss_avg}')\n",
    "\n",
    "        val_loss, val_preds, val_true = evaluate(model, val_dl)\n",
    "        val_preds = np.vstack(np.array(val_preds))\n",
    "        val_f1 = f1_score_func(val_preds, val_true)\n",
    "        tqdm.write(f'Val Loss: {val_loss}')\n",
    "        tqdm.write(f'F1 Score (weighted): {val_f1}')"
   ]
  },
  {
   "cell_type": "code",
   "execution_count": 44,
   "metadata": {},
   "outputs": [
    {
     "name": "stderr",
     "output_type": "stream",
     "text": [
      "  0%|          | 0/15 [00:00<?, ?it/s]                                        "
     ]
    },
    {
     "name": "stdout",
     "output_type": "stream",
     "text": [
      "Epoch 0\n",
      "Training Loss: 0.8412546463310718\n"
     ]
    },
    {
     "name": "stderr",
     "output_type": "stream",
     "text": [
      "100%|██████████| 15/15 [03:49<00:00, 15.30s/it]\n",
      "Epoch 2:   0%|          | 0/80 [00:00<?, ?it/s]"
     ]
    },
    {
     "name": "stdout",
     "output_type": "stream",
     "text": [
      "Val Loss: 0.7327196756998698\n",
      "F1 Score (weighted): 0.7029652900691704\n"
     ]
    },
    {
     "name": "stderr",
     "output_type": "stream",
     "text": [
      "  0%|          | 0/15 [00:00<?, ?it/s]                                          "
     ]
    },
    {
     "name": "stdout",
     "output_type": "stream",
     "text": [
      "Epoch 1\n",
      "Training Loss: 0.5767748348414898\n"
     ]
    },
    {
     "name": "stderr",
     "output_type": "stream",
     "text": [
      "100%|██████████| 15/15 [04:16<00:00, 17.07s/it]\n",
      "Epoch 3:   0%|          | 0/80 [00:00<?, ?it/s]"
     ]
    },
    {
     "name": "stdout",
     "output_type": "stream",
     "text": [
      "Val Loss: 0.523770926396052\n",
      "F1 Score (weighted): 0.8425171404864841\n"
     ]
    },
    {
     "name": "stderr",
     "output_type": "stream",
     "text": [
      "  0%|          | 0/15 [00:00<?, ?it/s]                                         "
     ]
    },
    {
     "name": "stdout",
     "output_type": "stream",
     "text": [
      "Epoch 2\n",
      "Training Loss: 0.4126587310805917\n"
     ]
    },
    {
     "name": "stderr",
     "output_type": "stream",
     "text": [
      "100%|██████████| 15/15 [04:08<00:00, 16.55s/it]\n",
      "Epoch 4:   0%|          | 0/80 [00:00<?, ?it/s]"
     ]
    },
    {
     "name": "stdout",
     "output_type": "stream",
     "text": [
      "Val Loss: 0.3175016118834416\n",
      "F1 Score (weighted): 0.8882272960683701\n"
     ]
    },
    {
     "name": "stderr",
     "output_type": "stream",
     "text": [
      "  0%|          | 0/15 [00:00<?, ?it/s]                                         "
     ]
    },
    {
     "name": "stdout",
     "output_type": "stream",
     "text": [
      "Epoch 3\n",
      "Training Loss: 0.2992943444289267\n"
     ]
    },
    {
     "name": "stderr",
     "output_type": "stream",
     "text": [
      "100%|██████████| 15/15 [03:45<00:00, 15.03s/it]\n",
      "Epoch 5:   0%|          | 0/80 [00:00<?, ?it/s]"
     ]
    },
    {
     "name": "stdout",
     "output_type": "stream",
     "text": [
      "Val Loss: 0.3804077486197154\n",
      "F1 Score (weighted): 0.8761306939070062\n"
     ]
    },
    {
     "name": "stderr",
     "output_type": "stream",
     "text": [
      "  0%|          | 0/15 [00:00<?, ?it/s]                                         "
     ]
    },
    {
     "name": "stdout",
     "output_type": "stream",
     "text": [
      "Epoch 4\n",
      "Training Loss: 0.2252683797851205\n"
     ]
    },
    {
     "name": "stderr",
     "output_type": "stream",
     "text": [
      "100%|██████████| 15/15 [03:46<00:00, 15.10s/it]\n",
      "Epoch 6:   0%|          | 0/80 [00:00<?, ?it/s]"
     ]
    },
    {
     "name": "stdout",
     "output_type": "stream",
     "text": [
      "Val Loss: 0.28549180378516514\n",
      "F1 Score (weighted): 0.9148398836304942\n"
     ]
    },
    {
     "name": "stderr",
     "output_type": "stream",
     "text": [
      "  0%|          | 0/15 [00:00<?, ?it/s]                                        "
     ]
    },
    {
     "name": "stdout",
     "output_type": "stream",
     "text": [
      "Epoch 5\n",
      "Training Loss: 0.17654089415445923\n"
     ]
    },
    {
     "name": "stderr",
     "output_type": "stream",
     "text": [
      "100%|██████████| 15/15 [03:45<00:00, 15.04s/it]\n",
      "Epoch 7:   0%|          | 0/80 [00:00<?, ?it/s]"
     ]
    },
    {
     "name": "stdout",
     "output_type": "stream",
     "text": [
      "Val Loss: 0.2674065591146549\n",
      "F1 Score (weighted): 0.9080754364627016\n"
     ]
    },
    {
     "name": "stderr",
     "output_type": "stream",
     "text": [
      "  0%|          | 0/15 [00:00<?, ?it/s]                                       "
     ]
    },
    {
     "name": "stdout",
     "output_type": "stream",
     "text": [
      "Epoch 6\n",
      "Training Loss: 0.12879519644193352\n"
     ]
    },
    {
     "name": "stderr",
     "output_type": "stream",
     "text": [
      "100%|██████████| 15/15 [03:45<00:00, 15.00s/it]\n",
      "Epoch 8:   0%|          | 0/80 [00:00<?, ?it/s]"
     ]
    },
    {
     "name": "stdout",
     "output_type": "stream",
     "text": [
      "Val Loss: 0.24745209577182928\n",
      "F1 Score (weighted): 0.9282608108116945\n"
     ]
    },
    {
     "name": "stderr",
     "output_type": "stream",
     "text": [
      "  0%|          | 0/15 [00:00<?, ?it/s]                                        "
     ]
    },
    {
     "name": "stdout",
     "output_type": "stream",
     "text": [
      "Epoch 7\n",
      "Training Loss: 0.10068791122175753\n"
     ]
    },
    {
     "name": "stderr",
     "output_type": "stream",
     "text": [
      "100%|██████████| 15/15 [03:49<00:00, 15.27s/it]\n",
      "Epoch 9:   0%|          | 0/80 [00:00<?, ?it/s]"
     ]
    },
    {
     "name": "stdout",
     "output_type": "stream",
     "text": [
      "Val Loss: 0.26045269121726355\n",
      "F1 Score (weighted): 0.917608355040572\n"
     ]
    },
    {
     "name": "stderr",
     "output_type": "stream",
     "text": [
      "  0%|          | 0/15 [00:00<?, ?it/s]                                         "
     ]
    },
    {
     "name": "stdout",
     "output_type": "stream",
     "text": [
      "Epoch 8\n",
      "Training Loss: 0.08625127605628222\n"
     ]
    },
    {
     "name": "stderr",
     "output_type": "stream",
     "text": [
      "100%|██████████| 15/15 [03:50<00:00, 15.37s/it]\n",
      "Epoch 10:   0%|          | 0/80 [00:00<?, ?it/s]"
     ]
    },
    {
     "name": "stdout",
     "output_type": "stream",
     "text": [
      "Val Loss: 0.26640767020483813\n",
      "F1 Score (weighted): 0.924273486257531\n"
     ]
    },
    {
     "name": "stderr",
     "output_type": "stream",
     "text": [
      "  0%|          | 0/15 [00:00<?, ?it/s]                                          "
     ]
    },
    {
     "name": "stdout",
     "output_type": "stream",
     "text": [
      "Epoch 9\n",
      "Training Loss: 0.07630580805707723\n"
     ]
    },
    {
     "name": "stderr",
     "output_type": "stream",
     "text": [
      "100%|██████████| 15/15 [03:44<00:00, 14.98s/it]"
     ]
    },
    {
     "name": "stdout",
     "output_type": "stream",
     "text": [
      "Val Loss: 0.2612705962111553\n",
      "F1 Score (weighted): 0.9240964038729145\n"
     ]
    },
    {
     "name": "stderr",
     "output_type": "stream",
     "text": [
      "\n"
     ]
    }
   ],
   "source": [
    "fit(model, EPOCHS, train_dl, val_dl, optim)"
   ]
  },
  {
   "cell_type": "code",
   "execution_count": 47,
   "metadata": {},
   "outputs": [
    {
     "name": "stderr",
     "output_type": "stream",
     "text": [
      "100%|██████████| 15/15 [03:35<00:00, 14.37s/it]\n"
     ]
    }
   ],
   "source": [
    "\n",
    "_, predictions, true_vals = evaluate(model, val_dl)"
   ]
  },
  {
   "cell_type": "code",
   "execution_count": 48,
   "metadata": {},
   "outputs": [
    {
     "name": "stdout",
     "output_type": "stream",
     "text": [
      "Class: Pos\n",
      "Accuracy: 69/84\n",
      "Class: Neg\n",
      "Accuracy: 77/85\n",
      "Class: Neu\n",
      "Accuracy: 269/280\n"
     ]
    }
   ],
   "source": [
    "print_acc_per_class(np.vstack(predictions), true_vals)"
   ]
  },
  {
   "cell_type": "code",
   "execution_count": 4,
   "metadata": {},
   "outputs": [
    {
     "name": "stdout",
     "output_type": "stream",
     "text": [
      "Princess Arya Stark\n",
      "Westerosi monarchs\n"
     ]
    }
   ],
   "source": [
    "list_df = [{'answer': 'Princess Arya Stark',\n",
    "  'question': 'Who is the third child and second daughter of Lord Eddard Stark and his wife, Lady Catelyn Stark?'},\n",
    " {'answer': 'Westerosi monarchs',\n",
    "  'question': 'Who is Princess Arya the sister of?'}]\n",
    "\n",
    "\n",
    "for dic in list_df:\n",
    "    for key in dic:\n",
    "        if key == 'answer':\n",
    "            print(dic[key])\n",
    "        "
   ]
  },
  {
   "cell_type": "code",
   "execution_count": null,
   "metadata": {},
   "outputs": [],
   "source": []
  }
 ],
 "metadata": {
  "kernelspec": {
   "display_name": "Python 3",
   "language": "python",
   "name": "python3"
  },
  "language_info": {
   "codemirror_mode": {
    "name": "ipython",
    "version": 3
   },
   "file_extension": ".py",
   "mimetype": "text/x-python",
   "name": "python",
   "nbconvert_exporter": "python",
   "pygments_lexer": "ipython3",
   "version": "3.8.6"
  }
 },
 "nbformat": 4,
 "nbformat_minor": 2
}
